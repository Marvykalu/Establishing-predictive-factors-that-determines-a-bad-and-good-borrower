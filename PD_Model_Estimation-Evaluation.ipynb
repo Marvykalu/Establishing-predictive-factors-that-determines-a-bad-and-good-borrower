{
 "cells": [
  {
   "cell_type": "markdown",
   "metadata": {},
   "source": [
    "# Overview\n",
    "\n",
    "In this notebook, we will build a predictive model for the Prosper loan data. We will import the processed data from our previous notebook [here](http://localhost:8888/notebooks/Forecasting%20credit%20risk%20using%20logistic%20regression.ipynb#ProsperScore).\n",
    "\n",
    "Our goal is to build perform a binary classification of the loan default/non-default variables using logistic regression."
   ]
  },
  {
   "cell_type": "code",
   "execution_count": 25,
   "metadata": {},
   "outputs": [],
   "source": [
    "#import libraries\n",
    "import numpy as np\n",
    "import pandas as pd\n",
    "import matplotlib.pyplot as plt\n",
    "import seaborn as sb\n",
    "from sklearn.pipeline import Pipeline\n",
    "\n",
    "import statsmodels.api as sm\n",
    "\n",
    "from sklearn.linear_model import LogisticRegression\n",
    "from sklearn.model_selection import GridSearchCV\n",
    "\n",
    "from sklearn import metrics\n",
    "from sklearn.metrics import (confusion_matrix, classification_report)\n",
    "\n",
    "import pickle"
   ]
  },
  {
   "cell_type": "markdown",
   "metadata": {},
   "source": [
    "### Loading the Data"
   ]
  },
  {
   "cell_type": "code",
   "execution_count": 2,
   "metadata": {},
   "outputs": [],
   "source": [
    "x_train = pd.read_csv('loan_data_inputs_train.csv')\n",
    "y_train = pd.read_csv('loan_data_targets_train.csv')\n",
    "x_test = pd.read_csv('loan_data_inputs_test.csv')\n",
    "y_test = pd.read_csv('loan_data_targets_test.csv')"
   ]
  },
  {
   "cell_type": "code",
   "execution_count": 3,
   "metadata": {},
   "outputs": [
    {
     "name": "stdout",
     "output_type": "stream",
     "text": [
      "Train data: (40423, 77) (40423, 1)\n",
      "Test data: (13475, 77) (13475, 1)\n"
     ]
    }
   ],
   "source": [
    "print(\"Train data:\", x_train.shape, y_train.shape)\n",
    "print(\"Test data:\", x_test.shape, y_test.shape)"
   ]
  },
  {
   "cell_type": "markdown",
   "metadata": {},
   "source": [
    "#### Reshape the target datasets"
   ]
  },
  {
   "cell_type": "code",
   "execution_count": 4,
   "metadata": {},
   "outputs": [],
   "source": [
    "y_train = y_train.values.reshape(-1,)\n",
    "y_test = y_test.values.reshape(-1,)"
   ]
  },
  {
   "cell_type": "code",
   "execution_count": 5,
   "metadata": {},
   "outputs": [
    {
     "name": "stdout",
     "output_type": "stream",
     "text": [
      "Train data: (40423, 77) (40423,)\n",
      "Test data: (13475, 77) (13475,)\n"
     ]
    }
   ],
   "source": [
    "#print new shape\n",
    "print(\"Train data:\", x_train.shape, y_train.shape)\n",
    "print(\"Test data:\", x_test.shape, y_test.shape)"
   ]
  },
  {
   "cell_type": "code",
   "execution_count": 6,
   "metadata": {},
   "outputs": [
    {
     "data": {
      "text/html": [
       "<div>\n",
       "<style scoped>\n",
       "    .dataframe tbody tr th:only-of-type {\n",
       "        vertical-align: middle;\n",
       "    }\n",
       "\n",
       "    .dataframe tbody tr th {\n",
       "        vertical-align: top;\n",
       "    }\n",
       "\n",
       "    .dataframe thead th {\n",
       "        text-align: right;\n",
       "    }\n",
       "</style>\n",
       "<table border=\"1\" class=\"dataframe\">\n",
       "  <thead>\n",
       "    <tr style=\"text-align: right;\">\n",
       "      <th></th>\n",
       "      <th>IncomeRange</th>\n",
       "      <th>IncomeVerifiable</th>\n",
       "      <th>IsBorrowerHomeowner</th>\n",
       "      <th>DebtToIncomeRatio</th>\n",
       "      <th>AvailableBankcardCredit</th>\n",
       "      <th>EmploymentStatus</th>\n",
       "      <th>LoanStatus</th>\n",
       "      <th>Term</th>\n",
       "      <th>LoanOriginalAmount</th>\n",
       "      <th>ProsperRating (Alpha)</th>\n",
       "      <th>...</th>\n",
       "      <th>DebtToIncomeRatio:0.244-0.296</th>\n",
       "      <th>DebtToIncomeRatio:0.296-0.4</th>\n",
       "      <th>DebtToIncomeRatio&gt;0.4</th>\n",
       "      <th>AvailableBankcardCreditFactor</th>\n",
       "      <th>AvailableBankcardCredit:&lt;8.5k</th>\n",
       "      <th>AvailableBankcardCredit:8.5k-15.5k</th>\n",
       "      <th>AvailableBankcardCredit:15.5k-21k</th>\n",
       "      <th>AvailableBankcardCredit:21k-25.5k</th>\n",
       "      <th>AvailableBankcardCredit:25.5k-30k</th>\n",
       "      <th>AvailableBankcardCredit&gt;30k</th>\n",
       "    </tr>\n",
       "  </thead>\n",
       "  <tbody>\n",
       "    <tr>\n",
       "      <th>0</th>\n",
       "      <td>$25,000-49,999</td>\n",
       "      <td>True</td>\n",
       "      <td>False</td>\n",
       "      <td>0.07</td>\n",
       "      <td>1645.0</td>\n",
       "      <td>Employed</td>\n",
       "      <td>Chargedoff</td>\n",
       "      <td>60</td>\n",
       "      <td>3500</td>\n",
       "      <td>E</td>\n",
       "      <td>...</td>\n",
       "      <td>0</td>\n",
       "      <td>0</td>\n",
       "      <td>0</td>\n",
       "      <td>(-498.374, 9967.48]</td>\n",
       "      <td>1</td>\n",
       "      <td>0</td>\n",
       "      <td>0</td>\n",
       "      <td>0</td>\n",
       "      <td>0</td>\n",
       "      <td>0</td>\n",
       "    </tr>\n",
       "    <tr>\n",
       "      <th>1</th>\n",
       "      <td>$100,000+</td>\n",
       "      <td>True</td>\n",
       "      <td>True</td>\n",
       "      <td>0.23</td>\n",
       "      <td>10704.0</td>\n",
       "      <td>Employed</td>\n",
       "      <td>Current</td>\n",
       "      <td>60</td>\n",
       "      <td>15000</td>\n",
       "      <td>A</td>\n",
       "      <td>...</td>\n",
       "      <td>0</td>\n",
       "      <td>0</td>\n",
       "      <td>0</td>\n",
       "      <td>(9967.48, 19934.96]</td>\n",
       "      <td>0</td>\n",
       "      <td>1</td>\n",
       "      <td>0</td>\n",
       "      <td>0</td>\n",
       "      <td>0</td>\n",
       "      <td>0</td>\n",
       "    </tr>\n",
       "    <tr>\n",
       "      <th>2</th>\n",
       "      <td>$100,000+</td>\n",
       "      <td>True</td>\n",
       "      <td>False</td>\n",
       "      <td>0.18</td>\n",
       "      <td>24063.0</td>\n",
       "      <td>Employed</td>\n",
       "      <td>Current</td>\n",
       "      <td>60</td>\n",
       "      <td>25000</td>\n",
       "      <td>A</td>\n",
       "      <td>...</td>\n",
       "      <td>0</td>\n",
       "      <td>0</td>\n",
       "      <td>0</td>\n",
       "      <td>(19934.96, 29902.44]</td>\n",
       "      <td>0</td>\n",
       "      <td>0</td>\n",
       "      <td>0</td>\n",
       "      <td>1</td>\n",
       "      <td>0</td>\n",
       "      <td>0</td>\n",
       "    </tr>\n",
       "    <tr>\n",
       "      <th>3</th>\n",
       "      <td>$50,000-74,999</td>\n",
       "      <td>True</td>\n",
       "      <td>False</td>\n",
       "      <td>0.20</td>\n",
       "      <td>47304.0</td>\n",
       "      <td>Employed</td>\n",
       "      <td>Current</td>\n",
       "      <td>36</td>\n",
       "      <td>4000</td>\n",
       "      <td>D</td>\n",
       "      <td>...</td>\n",
       "      <td>0</td>\n",
       "      <td>0</td>\n",
       "      <td>0</td>\n",
       "      <td>(39869.92, 49837.4]</td>\n",
       "      <td>0</td>\n",
       "      <td>0</td>\n",
       "      <td>0</td>\n",
       "      <td>0</td>\n",
       "      <td>0</td>\n",
       "      <td>1</td>\n",
       "    </tr>\n",
       "    <tr>\n",
       "      <th>4</th>\n",
       "      <td>$50,000-74,999</td>\n",
       "      <td>True</td>\n",
       "      <td>False</td>\n",
       "      <td>0.12</td>\n",
       "      <td>2630.0</td>\n",
       "      <td>Employed</td>\n",
       "      <td>Current</td>\n",
       "      <td>60</td>\n",
       "      <td>15000</td>\n",
       "      <td>C</td>\n",
       "      <td>...</td>\n",
       "      <td>0</td>\n",
       "      <td>0</td>\n",
       "      <td>0</td>\n",
       "      <td>(-498.374, 9967.48]</td>\n",
       "      <td>1</td>\n",
       "      <td>0</td>\n",
       "      <td>0</td>\n",
       "      <td>0</td>\n",
       "      <td>0</td>\n",
       "      <td>0</td>\n",
       "    </tr>\n",
       "  </tbody>\n",
       "</table>\n",
       "<p>5 rows × 77 columns</p>\n",
       "</div>"
      ],
      "text/plain": [
       "      IncomeRange  IncomeVerifiable  IsBorrowerHomeowner  DebtToIncomeRatio  \\\n",
       "0  $25,000-49,999              True                False               0.07   \n",
       "1       $100,000+              True                 True               0.23   \n",
       "2       $100,000+              True                False               0.18   \n",
       "3  $50,000-74,999              True                False               0.20   \n",
       "4  $50,000-74,999              True                False               0.12   \n",
       "\n",
       "   AvailableBankcardCredit EmploymentStatus  LoanStatus  Term  \\\n",
       "0                   1645.0         Employed  Chargedoff    60   \n",
       "1                  10704.0         Employed     Current    60   \n",
       "2                  24063.0         Employed     Current    60   \n",
       "3                  47304.0         Employed     Current    36   \n",
       "4                   2630.0         Employed     Current    60   \n",
       "\n",
       "   LoanOriginalAmount ProsperRating (Alpha)  ...  \\\n",
       "0                3500                     E  ...   \n",
       "1               15000                     A  ...   \n",
       "2               25000                     A  ...   \n",
       "3                4000                     D  ...   \n",
       "4               15000                     C  ...   \n",
       "\n",
       "   DebtToIncomeRatio:0.244-0.296  DebtToIncomeRatio:0.296-0.4  \\\n",
       "0                              0                            0   \n",
       "1                              0                            0   \n",
       "2                              0                            0   \n",
       "3                              0                            0   \n",
       "4                              0                            0   \n",
       "\n",
       "  DebtToIncomeRatio>0.4  AvailableBankcardCreditFactor  \\\n",
       "0                     0            (-498.374, 9967.48]   \n",
       "1                     0            (9967.48, 19934.96]   \n",
       "2                     0           (19934.96, 29902.44]   \n",
       "3                     0            (39869.92, 49837.4]   \n",
       "4                     0            (-498.374, 9967.48]   \n",
       "\n",
       "   AvailableBankcardCredit:<8.5k  AvailableBankcardCredit:8.5k-15.5k  \\\n",
       "0                              1                                   0   \n",
       "1                              0                                   1   \n",
       "2                              0                                   0   \n",
       "3                              0                                   0   \n",
       "4                              1                                   0   \n",
       "\n",
       "   AvailableBankcardCredit:15.5k-21k  AvailableBankcardCredit:21k-25.5k  \\\n",
       "0                                  0                                  0   \n",
       "1                                  0                                  0   \n",
       "2                                  0                                  1   \n",
       "3                                  0                                  0   \n",
       "4                                  0                                  0   \n",
       "\n",
       "   AvailableBankcardCredit:25.5k-30k  AvailableBankcardCredit>30k  \n",
       "0                                  0                            0  \n",
       "1                                  0                            0  \n",
       "2                                  0                            0  \n",
       "3                                  0                            1  \n",
       "4                                  0                            0  \n",
       "\n",
       "[5 rows x 77 columns]"
      ]
     },
     "execution_count": 6,
     "metadata": {},
     "output_type": "execute_result"
    }
   ],
   "source": [
    "#a look at few rows of input train data\n",
    "x_train.head()"
   ]
  },
  {
   "cell_type": "code",
   "execution_count": 7,
   "metadata": {},
   "outputs": [
    {
     "data": {
      "text/html": [
       "<div>\n",
       "<style scoped>\n",
       "    .dataframe tbody tr th:only-of-type {\n",
       "        vertical-align: middle;\n",
       "    }\n",
       "\n",
       "    .dataframe tbody tr th {\n",
       "        vertical-align: top;\n",
       "    }\n",
       "\n",
       "    .dataframe thead th {\n",
       "        text-align: right;\n",
       "    }\n",
       "</style>\n",
       "<table border=\"1\" class=\"dataframe\">\n",
       "  <thead>\n",
       "    <tr style=\"text-align: right;\">\n",
       "      <th></th>\n",
       "      <th>IncomeRange</th>\n",
       "      <th>IncomeVerifiable</th>\n",
       "      <th>IsBorrowerHomeowner</th>\n",
       "      <th>DebtToIncomeRatio</th>\n",
       "      <th>AvailableBankcardCredit</th>\n",
       "      <th>EmploymentStatus</th>\n",
       "      <th>LoanStatus</th>\n",
       "      <th>Term</th>\n",
       "      <th>LoanOriginalAmount</th>\n",
       "      <th>ProsperRating (Alpha)</th>\n",
       "      <th>...</th>\n",
       "      <th>DebtToIncomeRatio:0.244-0.296</th>\n",
       "      <th>DebtToIncomeRatio:0.296-0.4</th>\n",
       "      <th>DebtToIncomeRatio&gt;0.4</th>\n",
       "      <th>AvailableBankcardCreditFactor</th>\n",
       "      <th>AvailableBankcardCredit:&lt;8.5k</th>\n",
       "      <th>AvailableBankcardCredit:8.5k-15.5k</th>\n",
       "      <th>AvailableBankcardCredit:15.5k-21k</th>\n",
       "      <th>AvailableBankcardCredit:21k-25.5k</th>\n",
       "      <th>AvailableBankcardCredit:25.5k-30k</th>\n",
       "      <th>AvailableBankcardCredit&gt;30k</th>\n",
       "    </tr>\n",
       "  </thead>\n",
       "  <tbody>\n",
       "    <tr>\n",
       "      <th>0</th>\n",
       "      <td>$25,000-49,999</td>\n",
       "      <td>True</td>\n",
       "      <td>False</td>\n",
       "      <td>0.35</td>\n",
       "      <td>0.0</td>\n",
       "      <td>Employed</td>\n",
       "      <td>Current</td>\n",
       "      <td>36</td>\n",
       "      <td>2500</td>\n",
       "      <td>HR</td>\n",
       "      <td>...</td>\n",
       "      <td>0</td>\n",
       "      <td>1</td>\n",
       "      <td>0</td>\n",
       "      <td>(-360.0, 7200.0]</td>\n",
       "      <td>1</td>\n",
       "      <td>0</td>\n",
       "      <td>0</td>\n",
       "      <td>0</td>\n",
       "      <td>0</td>\n",
       "      <td>0</td>\n",
       "    </tr>\n",
       "    <tr>\n",
       "      <th>1</th>\n",
       "      <td>$1-24,999</td>\n",
       "      <td>False</td>\n",
       "      <td>False</td>\n",
       "      <td>NaN</td>\n",
       "      <td>115.0</td>\n",
       "      <td>Self-employed</td>\n",
       "      <td>Current</td>\n",
       "      <td>60</td>\n",
       "      <td>12000</td>\n",
       "      <td>D</td>\n",
       "      <td>...</td>\n",
       "      <td>0</td>\n",
       "      <td>0</td>\n",
       "      <td>0</td>\n",
       "      <td>(-360.0, 7200.0]</td>\n",
       "      <td>1</td>\n",
       "      <td>0</td>\n",
       "      <td>0</td>\n",
       "      <td>0</td>\n",
       "      <td>0</td>\n",
       "      <td>0</td>\n",
       "    </tr>\n",
       "    <tr>\n",
       "      <th>2</th>\n",
       "      <td>$50,000-74,999</td>\n",
       "      <td>True</td>\n",
       "      <td>True</td>\n",
       "      <td>0.42</td>\n",
       "      <td>12145.0</td>\n",
       "      <td>Employed</td>\n",
       "      <td>Current</td>\n",
       "      <td>36</td>\n",
       "      <td>15000</td>\n",
       "      <td>C</td>\n",
       "      <td>...</td>\n",
       "      <td>0</td>\n",
       "      <td>0</td>\n",
       "      <td>1</td>\n",
       "      <td>(7200.0, 14400.0]</td>\n",
       "      <td>0</td>\n",
       "      <td>1</td>\n",
       "      <td>0</td>\n",
       "      <td>0</td>\n",
       "      <td>0</td>\n",
       "      <td>0</td>\n",
       "    </tr>\n",
       "    <tr>\n",
       "      <th>3</th>\n",
       "      <td>$75,000-99,999</td>\n",
       "      <td>True</td>\n",
       "      <td>False</td>\n",
       "      <td>0.13</td>\n",
       "      <td>200.0</td>\n",
       "      <td>Employed</td>\n",
       "      <td>Current</td>\n",
       "      <td>36</td>\n",
       "      <td>4000</td>\n",
       "      <td>B</td>\n",
       "      <td>...</td>\n",
       "      <td>0</td>\n",
       "      <td>0</td>\n",
       "      <td>0</td>\n",
       "      <td>(-360.0, 7200.0]</td>\n",
       "      <td>1</td>\n",
       "      <td>0</td>\n",
       "      <td>0</td>\n",
       "      <td>0</td>\n",
       "      <td>0</td>\n",
       "      <td>0</td>\n",
       "    </tr>\n",
       "    <tr>\n",
       "      <th>4</th>\n",
       "      <td>$75,000-99,999</td>\n",
       "      <td>True</td>\n",
       "      <td>False</td>\n",
       "      <td>0.18</td>\n",
       "      <td>378.0</td>\n",
       "      <td>Employed</td>\n",
       "      <td>Completed</td>\n",
       "      <td>36</td>\n",
       "      <td>4000</td>\n",
       "      <td>D</td>\n",
       "      <td>...</td>\n",
       "      <td>0</td>\n",
       "      <td>0</td>\n",
       "      <td>0</td>\n",
       "      <td>(-360.0, 7200.0]</td>\n",
       "      <td>1</td>\n",
       "      <td>0</td>\n",
       "      <td>0</td>\n",
       "      <td>0</td>\n",
       "      <td>0</td>\n",
       "      <td>0</td>\n",
       "    </tr>\n",
       "  </tbody>\n",
       "</table>\n",
       "<p>5 rows × 77 columns</p>\n",
       "</div>"
      ],
      "text/plain": [
       "      IncomeRange  IncomeVerifiable  IsBorrowerHomeowner  DebtToIncomeRatio  \\\n",
       "0  $25,000-49,999              True                False               0.35   \n",
       "1       $1-24,999             False                False                NaN   \n",
       "2  $50,000-74,999              True                 True               0.42   \n",
       "3  $75,000-99,999              True                False               0.13   \n",
       "4  $75,000-99,999              True                False               0.18   \n",
       "\n",
       "   AvailableBankcardCredit EmploymentStatus LoanStatus  Term  \\\n",
       "0                      0.0         Employed    Current    36   \n",
       "1                    115.0    Self-employed    Current    60   \n",
       "2                  12145.0         Employed    Current    36   \n",
       "3                    200.0         Employed    Current    36   \n",
       "4                    378.0         Employed  Completed    36   \n",
       "\n",
       "   LoanOriginalAmount ProsperRating (Alpha)  ...  \\\n",
       "0                2500                    HR  ...   \n",
       "1               12000                     D  ...   \n",
       "2               15000                     C  ...   \n",
       "3                4000                     B  ...   \n",
       "4                4000                     D  ...   \n",
       "\n",
       "   DebtToIncomeRatio:0.244-0.296  DebtToIncomeRatio:0.296-0.4  \\\n",
       "0                              0                            1   \n",
       "1                              0                            0   \n",
       "2                              0                            0   \n",
       "3                              0                            0   \n",
       "4                              0                            0   \n",
       "\n",
       "  DebtToIncomeRatio>0.4  AvailableBankcardCreditFactor  \\\n",
       "0                     0               (-360.0, 7200.0]   \n",
       "1                     0               (-360.0, 7200.0]   \n",
       "2                     1              (7200.0, 14400.0]   \n",
       "3                     0               (-360.0, 7200.0]   \n",
       "4                     0               (-360.0, 7200.0]   \n",
       "\n",
       "   AvailableBankcardCredit:<8.5k  AvailableBankcardCredit:8.5k-15.5k  \\\n",
       "0                              1                                   0   \n",
       "1                              1                                   0   \n",
       "2                              0                                   1   \n",
       "3                              1                                   0   \n",
       "4                              1                                   0   \n",
       "\n",
       "   AvailableBankcardCredit:15.5k-21k  AvailableBankcardCredit:21k-25.5k  \\\n",
       "0                                  0                                  0   \n",
       "1                                  0                                  0   \n",
       "2                                  0                                  0   \n",
       "3                                  0                                  0   \n",
       "4                                  0                                  0   \n",
       "\n",
       "   AvailableBankcardCredit:25.5k-30k  AvailableBankcardCredit>30k  \n",
       "0                                  0                            0  \n",
       "1                                  0                            0  \n",
       "2                                  0                            0  \n",
       "3                                  0                            0  \n",
       "4                                  0                            0  \n",
       "\n",
       "[5 rows x 77 columns]"
      ]
     },
     "execution_count": 7,
     "metadata": {},
     "output_type": "execute_result"
    }
   ],
   "source": [
    "#a look at few rows of input test data\n",
    "x_test.head()"
   ]
  },
  {
   "cell_type": "markdown",
   "metadata": {},
   "source": [
    "### Selecting the Features\n",
    "\n",
    "#### input Training data"
   ]
  },
  {
   "cell_type": "code",
   "execution_count": 8,
   "metadata": {},
   "outputs": [
    {
     "data": {
      "text/plain": [
       "array(['IncomeRange', 'IncomeVerifiable', 'IsBorrowerHomeowner',\n",
       "       'DebtToIncomeRatio', 'AvailableBankcardCredit', 'EmploymentStatus',\n",
       "       'LoanStatus', 'Term', 'LoanOriginalAmount',\n",
       "       'ProsperRating (Alpha)', 'ProsperScore', 'BorrowerRate',\n",
       "       'CreditScoreRange', 'IncomeRange:$0', 'IncomeRange:$1-24,999',\n",
       "       'IncomeRange:$100,000+', 'IncomeRange:$25,000-49,999',\n",
       "       'IncomeRange:$50,000-74,999', 'IncomeRange:$75,000-99,999',\n",
       "       'IncomeRange:Not employed', 'EmploymentStatus:Employed',\n",
       "       'EmploymentStatus:Full-time', 'EmploymentStatus:Not employed',\n",
       "       'EmploymentStatus:Other', 'EmploymentStatus:Part-time',\n",
       "       'EmploymentStatus:Retired', 'EmploymentStatus:Self-employed',\n",
       "       'CreditScoreRange:Exceptional (800+)',\n",
       "       'CreditScoreRange:Fair (600-679)',\n",
       "       'CreditScoreRange:Good (680-739)',\n",
       "       'CreditScoreRange:Very Good (740-799)', 'IncomeVerifiable:False',\n",
       "       'IncomeVerifiable:True', 'IsBorrowerHomeowner:False',\n",
       "       'IsBorrowerHomeowner:True', 'ProsperRating (Alpha):A',\n",
       "       'ProsperRating (Alpha):AA', 'ProsperRating (Alpha):B',\n",
       "       'ProsperRating (Alpha):C', 'ProsperRating (Alpha):D',\n",
       "       'ProsperRating (Alpha):E', 'ProsperRating (Alpha):HR',\n",
       "       'EmploymentStatus:Other__self_employed__full_time',\n",
       "       'EmploymentStatus:Not_employed__part_time__retired', 'Term:12',\n",
       "       'Term:36', 'Term:60', 'ProsperScore:1', 'ProsperScore:2-5',\n",
       "       'ProsperScore:6-8', 'ProsperScore:9-11', 'BorrowerRateFactor',\n",
       "       'BorrowerRate:<0.111', 'BorrowerRate:0.111, 0.188',\n",
       "       'BorrowerRate:0.188, 0.243', 'BorrowerRate:0.243-0.292',\n",
       "       'BorrowerRate:>0.292', 'LoanOriginalAmountFactor',\n",
       "       'LoanOriginalAmount:<7.5K', 'LoanOriginalAmount:7.5K-15K',\n",
       "       'LoanOriginalAmount:15K-20.4K', 'LoanOriginalAmount:20.4K-24.3k',\n",
       "       'LoanOriginalAmount>24.3k', 'DebtToIncomeRatioFactor',\n",
       "       'DebtToIncomeRatio:Missing', 'DebtToIncomeRatio:<0.088',\n",
       "       'DebtToIncomeRatio:0.088-0.244', 'DebtToIncomeRatio:0.244-0.296',\n",
       "       'DebtToIncomeRatio:0.296-0.4', 'DebtToIncomeRatio>0.4',\n",
       "       'AvailableBankcardCreditFactor', 'AvailableBankcardCredit:<8.5k',\n",
       "       'AvailableBankcardCredit:8.5k-15.5k',\n",
       "       'AvailableBankcardCredit:15.5k-21k',\n",
       "       'AvailableBankcardCredit:21k-25.5k',\n",
       "       'AvailableBankcardCredit:25.5k-30k', 'AvailableBankcardCredit>30k'],\n",
       "      dtype=object)"
      ]
     },
     "execution_count": 8,
     "metadata": {},
     "output_type": "execute_result"
    }
   ],
   "source": [
    "x_train.columns.values"
   ]
  },
  {
   "cell_type": "code",
   "execution_count": 9,
   "metadata": {},
   "outputs": [],
   "source": [
    "x_train_with_ref_cat = x_train[['IncomeRange:$0', 'IncomeRange:$1-24,999',\n",
    "       'IncomeRange:$100,000+', 'IncomeRange:$25,000-49,999',\n",
    "       'IncomeRange:$50,000-74,999', 'IncomeRange:$75,000-99,999',\n",
    "       'IncomeRange:Not employed', 'EmploymentStatus:Employed',\n",
    "       'CreditScoreRange:Exceptional (800+)',\n",
    "       'CreditScoreRange:Fair (600-679)',\n",
    "       'CreditScoreRange:Good (680-739)',\n",
    "       'CreditScoreRange:Very Good (740-799)', 'IncomeVerifiable:False',\n",
    "       'IncomeVerifiable:True', 'IsBorrowerHomeowner:False',\n",
    "       'IsBorrowerHomeowner:True', 'ProsperRating (Alpha):A',\n",
    "       'ProsperRating (Alpha):AA', 'ProsperRating (Alpha):B',\n",
    "       'ProsperRating (Alpha):C', 'ProsperRating (Alpha):D',\n",
    "       'ProsperRating (Alpha):E', 'ProsperRating (Alpha):HR',\n",
    "       'EmploymentStatus:Other__self_employed__full_time',\n",
    "       'EmploymentStatus:Not_employed__part_time__retired', 'Term:12',\n",
    "       'Term:36', 'Term:60', 'ProsperScore:1', 'ProsperScore:2-5',\n",
    "       'ProsperScore:6-8', 'ProsperScore:9-11',\n",
    "       'BorrowerRate:<0.111', 'BorrowerRate:0.111, 0.188',\n",
    "       'BorrowerRate:0.188, 0.243', 'BorrowerRate:0.243-0.292',\n",
    "       'BorrowerRate:>0.292',\n",
    "       'LoanOriginalAmount:<7.5K', 'LoanOriginalAmount:7.5K-15K',\n",
    "       'LoanOriginalAmount:15K-20.4K', 'LoanOriginalAmount:20.4K-24.3k',\n",
    "       'LoanOriginalAmount>24.3k',\n",
    "       'DebtToIncomeRatio:Missing', 'DebtToIncomeRatio:<0.088',\n",
    "       'DebtToIncomeRatio:0.088-0.244', 'DebtToIncomeRatio:0.244-0.296',\n",
    "       'DebtToIncomeRatio:0.296-0.4', 'DebtToIncomeRatio>0.4',\n",
    "        'AvailableBankcardCredit:<8.5k',\n",
    "       'AvailableBankcardCredit:8.5k-15.5k',\n",
    "       'AvailableBankcardCredit:15.5k-21k',\n",
    "       'AvailableBankcardCredit:21k-25.5k',\n",
    "       'AvailableBankcardCredit:25.5k-30k', 'AvailableBankcardCredit>30k']]\n",
    "\n",
    "\n",
    "#============================================================================================\n",
    "#list of reference variable categories with lowest weight of evidience \n",
    "\n",
    "ref_categories = ['IncomeRange:$0', 'EmploymentStatus:Not_employed__part_time__retired','CreditScoreRange:Fair (600-679)',\n",
    "                 'Term:60','IsBorrowerHomeowner:False','IncomeVerifiable:False',\n",
    "                  'BorrowerRate:<0.111','ProsperRating (Alpha):HR','LoanOriginalAmount:<7.5K',\n",
    "                  'DebtToIncomeRatio:<0.088', 'AvailableBankcardCredit:<8.5k','ProsperScore:1',\n",
    "                 'EmploymentStatus:Not_employed__part_time__retired']"
   ]
  },
  {
   "cell_type": "code",
   "execution_count": 10,
   "metadata": {},
   "outputs": [
    {
     "data": {
      "text/plain": [
       "(40423, 42)"
      ]
     },
     "execution_count": 10,
     "metadata": {},
     "output_type": "execute_result"
    }
   ],
   "source": [
    "inputs_train = x_train_with_ref_cat.drop(ref_categories, axis = 1)\n",
    "inputs_train.shape"
   ]
  },
  {
   "cell_type": "code",
   "execution_count": 11,
   "metadata": {},
   "outputs": [
    {
     "data": {
      "text/plain": [
       "42"
      ]
     },
     "execution_count": 11,
     "metadata": {},
     "output_type": "execute_result"
    }
   ],
   "source": [
    "sum(inputs_train.dtypes==int)"
   ]
  },
  {
   "cell_type": "markdown",
   "metadata": {},
   "source": [
    "So we have 42 features in the input training data and are numeric, a desirable data type for our ML model.\n",
    "\n",
    "#### Input Testing data"
   ]
  },
  {
   "cell_type": "code",
   "execution_count": 12,
   "metadata": {},
   "outputs": [],
   "source": [
    "# Here, from the dataframe with inputs for testing, we keep the same variables that we used in our final PD model.\n",
    "\n",
    "\n",
    "x_test_with_ref_cat = x_test[['IncomeRange:$0', 'IncomeRange:$1-24,999',\n",
    "       'IncomeRange:$100,000+', 'IncomeRange:$25,000-49,999',\n",
    "       'IncomeRange:$50,000-74,999', 'IncomeRange:$75,000-99,999',\n",
    "       'IncomeRange:Not employed', 'EmploymentStatus:Employed',\n",
    "       'CreditScoreRange:Exceptional (800+)',\n",
    "       'CreditScoreRange:Fair (600-679)',\n",
    "       'CreditScoreRange:Good (680-739)',\n",
    "       'CreditScoreRange:Very Good (740-799)', 'IncomeVerifiable:False',\n",
    "       'IncomeVerifiable:True', 'IsBorrowerHomeowner:False',\n",
    "       'IsBorrowerHomeowner:True', 'ProsperRating (Alpha):A',\n",
    "       'ProsperRating (Alpha):AA', 'ProsperRating (Alpha):B',\n",
    "       'ProsperRating (Alpha):C', 'ProsperRating (Alpha):D',\n",
    "       'ProsperRating (Alpha):E', 'ProsperRating (Alpha):HR',\n",
    "       'EmploymentStatus:Other__self_employed__full_time',\n",
    "       'EmploymentStatus:Not_employed__part_time__retired', 'Term:12',\n",
    "       'Term:36', 'Term:60', 'ProsperScore:1', 'ProsperScore:2-5',\n",
    "       'ProsperScore:6-8', 'ProsperScore:9-11',\n",
    "       'BorrowerRate:<0.111', 'BorrowerRate:0.111, 0.188',\n",
    "       'BorrowerRate:0.188, 0.243', 'BorrowerRate:0.243-0.292',\n",
    "       'BorrowerRate:>0.292',\n",
    "       'LoanOriginalAmount:<7.5K', 'LoanOriginalAmount:7.5K-15K',\n",
    "       'LoanOriginalAmount:15K-20.4K', 'LoanOriginalAmount:20.4K-24.3k',\n",
    "       'LoanOriginalAmount>24.3k',\n",
    "       'DebtToIncomeRatio:Missing', 'DebtToIncomeRatio:<0.088',\n",
    "       'DebtToIncomeRatio:0.088-0.244', 'DebtToIncomeRatio:0.244-0.296',\n",
    "       'DebtToIncomeRatio:0.296-0.4', 'DebtToIncomeRatio>0.4',\n",
    "        'AvailableBankcardCredit:<8.5k',\n",
    "       'AvailableBankcardCredit:8.5k-15.5k',\n",
    "       'AvailableBankcardCredit:15.5k-21k',\n",
    "       'AvailableBankcardCredit:21k-25.5k',\n",
    "       'AvailableBankcardCredit:25.5k-30k', 'AvailableBankcardCredit>30k']]\n",
    "\n",
    "\n",
    "\n",
    "\n",
    "ref_categories = ['IncomeRange:$0', 'EmploymentStatus:Not_employed__part_time__retired','CreditScoreRange:Fair (600-679)',\n",
    "                 'Term:60','IsBorrowerHomeowner:False','IncomeVerifiable:False',\n",
    "                  'BorrowerRate:<0.111','ProsperRating (Alpha):HR','LoanOriginalAmount:<7.5K',\n",
    "                  'DebtToIncomeRatio:<0.088', 'AvailableBankcardCredit:<8.5k','ProsperScore:1',\n",
    "                 'EmploymentStatus:Not_employed__part_time__retired']"
   ]
  },
  {
   "cell_type": "code",
   "execution_count": 13,
   "metadata": {},
   "outputs": [
    {
     "data": {
      "text/plain": [
       "(13475, 42)"
      ]
     },
     "execution_count": 13,
     "metadata": {},
     "output_type": "execute_result"
    }
   ],
   "source": [
    "inputs_test = x_test_with_ref_cat.drop(ref_categories, axis = 1)\n",
    "inputs_test.shape"
   ]
  },
  {
   "cell_type": "code",
   "execution_count": 14,
   "metadata": {},
   "outputs": [
    {
     "data": {
      "text/plain": [
       "42"
      ]
     },
     "execution_count": 14,
     "metadata": {},
     "output_type": "execute_result"
    }
   ],
   "source": [
    "sum(inputs_train.dtypes==int)"
   ]
  },
  {
   "cell_type": "code",
   "execution_count": 15,
   "metadata": {},
   "outputs": [
    {
     "data": {
      "text/plain": [
       "array([ True,  True,  True,  True,  True,  True,  True,  True,  True,\n",
       "        True,  True,  True,  True,  True,  True,  True,  True,  True,\n",
       "        True,  True,  True,  True,  True,  True,  True,  True,  True,\n",
       "        True,  True,  True,  True,  True,  True,  True,  True,  True,\n",
       "        True,  True,  True,  True,  True,  True])"
      ]
     },
     "execution_count": 15,
     "metadata": {},
     "output_type": "execute_result"
    }
   ],
   "source": [
    "(inputs_test.columns == inputs_train.columns)"
   ]
  },
  {
   "cell_type": "markdown",
   "metadata": {},
   "source": [
    "So we have 42 features in the input testing data and all are numeric. We have also confirmed that the features n x_train==x_test"
   ]
  },
  {
   "cell_type": "markdown",
   "metadata": {},
   "source": [
    "# PD Model Estimation\n",
    "\n",
    "## Logistic Regression"
   ]
  },
  {
   "cell_type": "code",
   "execution_count": 16,
   "metadata": {},
   "outputs": [],
   "source": [
    "import warnings\n",
    "warnings.filterwarnings('ignore', category=FutureWarning)\n",
    "warnings.filterwarnings('ignore', category=DeprecationWarning)"
   ]
  },
  {
   "cell_type": "code",
   "execution_count": 17,
   "metadata": {},
   "outputs": [],
   "source": [
    "def performance_report(model,X_true,y_true):\n",
    "    \"\"\"\n",
    "    Function to generate classification report on a model\n",
    "    INPUT: Model, true data sets, that is X_test & y_test data sets\n",
    "    OUTPUT: Prints the f1 score, precision and recall for each output category\n",
    "    \"\"\"\n",
    "    y_pred = model.predict(X_true)\n",
    "    \n",
    "    print(classification_report(y_true, y_pred))\n",
    "   "
   ]
  },
  {
   "cell_type": "code",
   "execution_count": 45,
   "metadata": {},
   "outputs": [],
   "source": [
    "def confusion_mat(model,X_true,y_true):\n",
    "    y_pred = model.predict(X_true)\n",
    "    cm = confusion_matrix(y_true, y_pred)\n",
    "    conf_matrix = pd.DataFrame(data=cm,columns=['Predicted:0','Predicted:1'],index=['Actual:0','Actual:1'])\n",
    "    plt.figure(figsize = (8,5))\n",
    "    sb.heatmap(conf_matrix, annot=True,fmt='d',cmap=\"YlGnBu\")\n",
    "    return {'tn': cm[0, 0], 'fp': cm[0, 1],\n",
    "            'fn': cm[1, 0], 'tp': cm[1, 1]}"
   ]
  },
  {
   "cell_type": "code",
   "execution_count": 46,
   "metadata": {},
   "outputs": [],
   "source": [
    "def confusion_mat_with_gridsearch(model,X_true,y_true):\n",
    "    y_pred = model.best_estimator_.predict(X_true)\n",
    "    cm = confusion_matrix(y_true, y_pred)\n",
    "    conf_matrix = pd.DataFrame(data=cm,columns=['Predicted:0','Predicted:1'],index=['Actual:0','Actual:1'])\n",
    "    plt.figure(figsize = (8,5))\n",
    "    sb.heatmap(conf_matrix, annot=True,fmt='d',cmap=\"YlGnBu\")\n",
    "    return {'tn': cm[0, 0], 'fp': cm[0, 1],\n",
    "            'fn': cm[1, 0], 'tp': cm[1, 1]}"
   ]
  },
  {
   "cell_type": "markdown",
   "metadata": {},
   "source": [
    "### Build Logistic regression pipeline"
   ]
  },
  {
   "cell_type": "code",
   "execution_count": 19,
   "metadata": {},
   "outputs": [],
   "source": [
    "LogReg_pipeline = Pipeline([\n",
    "    ('clf', LogisticRegression())\n",
    "])\n",
    "\n"
   ]
  },
  {
   "cell_type": "code",
   "execution_count": 20,
   "metadata": {},
   "outputs": [
    {
     "name": "stderr",
     "output_type": "stream",
     "text": [
      "/opt/anaconda3/lib/python3.7/site-packages/sklearn/linear_model/_logistic.py:940: ConvergenceWarning: lbfgs failed to converge (status=1):\n",
      "STOP: TOTAL NO. of ITERATIONS REACHED LIMIT.\n",
      "\n",
      "Increase the number of iterations (max_iter) or scale the data as shown in:\n",
      "    https://scikit-learn.org/stable/modules/preprocessing.html\n",
      "Please also refer to the documentation for alternative solver options:\n",
      "    https://scikit-learn.org/stable/modules/linear_model.html#logistic-regression\n",
      "  extra_warning_msg=_LOGISTIC_SOLVER_CONVERGENCE_MSG)\n"
     ]
    },
    {
     "data": {
      "text/plain": [
       "Pipeline(memory=None,\n",
       "         steps=[('clf',\n",
       "                 LogisticRegression(C=1.0, class_weight=None, dual=False,\n",
       "                                    fit_intercept=True, intercept_scaling=1,\n",
       "                                    l1_ratio=None, max_iter=100,\n",
       "                                    multi_class='auto', n_jobs=None,\n",
       "                                    penalty='l2', random_state=None,\n",
       "                                    solver='lbfgs', tol=0.0001, verbose=0,\n",
       "                                    warm_start=False))],\n",
       "         verbose=False)"
      ]
     },
     "execution_count": 20,
     "metadata": {},
     "output_type": "execute_result"
    }
   ],
   "source": [
    "LogReg_pipeline.fit(inputs_train,y_train)"
   ]
  },
  {
   "cell_type": "code",
   "execution_count": 21,
   "metadata": {},
   "outputs": [
    {
     "name": "stdout",
     "output_type": "stream",
     "text": [
      "              precision    recall  f1-score   support\n",
      "\n",
      "           0       0.50      0.00      0.01       969\n",
      "           1       0.93      1.00      0.96     12506\n",
      "\n",
      "    accuracy                           0.93     13475\n",
      "   macro avg       0.71      0.50      0.48     13475\n",
      "weighted avg       0.90      0.93      0.89     13475\n",
      "\n"
     ]
    }
   ],
   "source": [
    "#test the model\n",
    "performance_report(LogReg_pipeline, inputs_test, y_test)"
   ]
  },
  {
   "cell_type": "code",
   "execution_count": 27,
   "metadata": {},
   "outputs": [
    {
     "data": {
      "image/png": "[encoded data removed]",
      "text/plain": [
       "<Figure size 576x360 with 2 Axes>"
      ]
     },
     "metadata": {
      "needs_background": "light"
     },
     "output_type": "display_data"
    }
   ],
   "source": [
    "confusion_mat(LogReg_pipeline, inputs_test, y_test)"
   ]
  },
  {
   "cell_type": "markdown",
   "metadata": {},
   "source": [
    "So we see here that our model predicts good borrowers with 93% precision, and bad borrowers with precision of 50%"
   ]
  },
  {
   "cell_type": "markdown",
   "metadata": {},
   "source": [
    "### Improve the model\n",
    "\n",
    "Before we use grid search, we want to know which independent variables contribute to predicting borrower default and which dont? The accepted approach is to check the statistical significance of coeeficients of each dummy variables. We look at P-value, then we will alter the fit model with newly selected features.\n",
    "\n",
    "### Build a Logistic Regression Model with P-Values\n"
   ]
  },
  {
   "cell_type": "code",
   "execution_count": 28,
   "metadata": {},
   "outputs": [
    {
     "name": "stdout",
     "output_type": "stream",
     "text": [
      "Optimization terminated successfully.\n",
      "         Current function value: 0.222125\n",
      "         Iterations 8\n"
     ]
    },
    {
     "data": {
      "text/html": [
       "<table class=\"simpletable\">\n",
       "<tr>\n",
       "        <td>Model:</td>              <td>Logit</td>      <td>Pseudo R-squared:</td>    <td>0.129</td>  \n",
       "</tr>\n",
       "<tr>\n",
       "  <td>Dependent Variable:</td>         <td>y</td>              <td>AIC:</td>        <td>18043.9306</td>\n",
       "</tr>\n",
       "<tr>\n",
       "         <td>Date:</td>        <td>2022-03-06 07:18</td>       <td>BIC:</td>        <td>18414.0382</td>\n",
       "</tr>\n",
       "<tr>\n",
       "   <td>No. Observations:</td>        <td>40423</td>       <td>Log-Likelihood:</td>    <td>-8979.0</td> \n",
       "</tr>\n",
       "<tr>\n",
       "       <td>Df Model:</td>             <td>42</td>            <td>LL-Null:</td>        <td>-10308.</td> \n",
       "</tr>\n",
       "<tr>\n",
       "     <td>Df Residuals:</td>          <td>40380</td>        <td>LLR p-value:</td>      <td>0.0000</td>  \n",
       "</tr>\n",
       "<tr>\n",
       "      <td>Converged:</td>           <td>1.0000</td>           <td>Scale:</td>         <td>1.0000</td>  \n",
       "</tr>\n",
       "<tr>\n",
       "    <td>No. Iterations:</td>        <td>8.0000</td>              <td></td>               <td></td>     \n",
       "</tr>\n",
       "</table>\n",
       "<table class=\"simpletable\">\n",
       "<tr>\n",
       "                          <td></td>                          <th>Coef.</th>  <th>Std.Err.</th>     <th>z</th>     <th>P>|z|</th> <th>[0.025</th>  <th>0.975]</th> \n",
       "</tr>\n",
       "<tr>\n",
       "  <th>IncomeRange:$1-24,999</th>                            <td>0.0694</td>   <td>0.7172</td>   <td>0.0968</td>  <td>0.9229</td> <td>-1.3363</td> <td>1.4751</td> \n",
       "</tr>\n",
       "<tr>\n",
       "  <th>IncomeRange:$100,000+</th>                            <td>0.9817</td>   <td>0.7177</td>   <td>1.3678</td>  <td>0.1714</td> <td>-0.4250</td> <td>2.3884</td> \n",
       "</tr>\n",
       "<tr>\n",
       "  <th>IncomeRange:$25,000-49,999</th>                       <td>0.2258</td>   <td>0.7153</td>   <td>0.3157</td>  <td>0.7522</td> <td>-1.1762</td> <td>1.6278</td> \n",
       "</tr>\n",
       "<tr>\n",
       "  <th>IncomeRange:$50,000-74,999</th>                       <td>0.5893</td>   <td>0.7159</td>   <td>0.8231</td>  <td>0.4105</td> <td>-0.8139</td> <td>1.9924</td> \n",
       "</tr>\n",
       "<tr>\n",
       "  <th>IncomeRange:$75,000-99,999</th>                       <td>0.7496</td>   <td>0.7172</td>   <td>1.0453</td>  <td>0.2959</td> <td>-0.6560</td> <td>2.1553</td> \n",
       "</tr>\n",
       "<tr>\n",
       "  <th>IncomeRange:Not employed</th>                         <td>0.3682</td>   <td>0.8274</td>   <td>0.4450</td>  <td>0.6563</td> <td>-1.2535</td> <td>1.9899</td> \n",
       "</tr>\n",
       "<tr>\n",
       "  <th>EmploymentStatus:Employed</th>                        <td>0.3258</td>   <td>0.3977</td>   <td>0.8194</td>  <td>0.4126</td> <td>-0.4536</td> <td>1.1053</td> \n",
       "</tr>\n",
       "<tr>\n",
       "  <th>CreditScoreRange:Exceptional (800+)</th>              <td>-0.2824</td>  <td>0.1528</td>   <td>-1.8483</td> <td>0.0646</td> <td>-0.5819</td> <td>0.0171</td> \n",
       "</tr>\n",
       "<tr>\n",
       "  <th>CreditScoreRange:Good (680-739)</th>                  <td>-0.0513</td>  <td>0.0490</td>   <td>-1.0477</td> <td>0.2948</td> <td>-0.1474</td> <td>0.0447</td> \n",
       "</tr>\n",
       "<tr>\n",
       "  <th>CreditScoreRange:Very Good (740-799)</th>             <td>-0.1182</td>  <td>0.0717</td>   <td>-1.6493</td> <td>0.0991</td> <td>-0.2587</td> <td>0.0223</td> \n",
       "</tr>\n",
       "<tr>\n",
       "  <th>IncomeVerifiable:True</th>                            <td>-0.8771</td>  <td>0.8653</td>   <td>-1.0137</td> <td>0.3107</td> <td>-2.5730</td> <td>0.8188</td> \n",
       "</tr>\n",
       "<tr>\n",
       "  <th>IsBorrowerHomeowner:True</th>                         <td>-0.0200</td>  <td>0.0444</td>   <td>-0.4498</td> <td>0.6528</td> <td>-0.1071</td> <td>0.0671</td> \n",
       "</tr>\n",
       "<tr>\n",
       "  <th>ProsperRating (Alpha):A</th>                          <td>-0.9435</td>  <td>0.2214</td>   <td>-4.2615</td> <td>0.0000</td> <td>-1.3775</td> <td>-0.5096</td>\n",
       "</tr>\n",
       "<tr>\n",
       "  <th>ProsperRating (Alpha):AA</th>                         <td>-0.5878</td>  <td>0.3316</td>   <td>-1.7725</td> <td>0.0763</td> <td>-1.2377</td> <td>0.0622</td> \n",
       "</tr>\n",
       "<tr>\n",
       "  <th>ProsperRating (Alpha):B</th>                          <td>-1.0957</td>  <td>0.1938</td>   <td>-5.6550</td> <td>0.0000</td> <td>-1.4755</td> <td>-0.7160</td>\n",
       "</tr>\n",
       "<tr>\n",
       "  <th>ProsperRating (Alpha):C</th>                          <td>-0.6795</td>  <td>0.1544</td>   <td>-4.4008</td> <td>0.0000</td> <td>-0.9821</td> <td>-0.3769</td>\n",
       "</tr>\n",
       "<tr>\n",
       "  <th>ProsperRating (Alpha):D</th>                          <td>-0.4934</td>  <td>0.1318</td>   <td>-3.7442</td> <td>0.0002</td> <td>-0.7516</td> <td>-0.2351</td>\n",
       "</tr>\n",
       "<tr>\n",
       "  <th>ProsperRating (Alpha):E</th>                          <td>0.3670</td>   <td>0.0826</td>   <td>4.4439</td>  <td>0.0000</td> <td>0.2052</td>  <td>0.5289</td> \n",
       "</tr>\n",
       "<tr>\n",
       "  <th>EmploymentStatus:Other__self_employed__full_time</th> <td>0.2765</td>   <td>0.4003</td>   <td>0.6908</td>  <td>0.4897</td> <td>-0.5080</td> <td>1.0610</td> \n",
       "</tr>\n",
       "<tr>\n",
       "  <th>Term:12</th>                                          <td>-0.4166</td>  <td>0.1950</td>   <td>-2.1369</td> <td>0.0326</td> <td>-0.7988</td> <td>-0.0345</td>\n",
       "</tr>\n",
       "<tr>\n",
       "  <th>Term:36</th>                                          <td>0.0978</td>   <td>0.0524</td>   <td>1.8680</td>  <td>0.0618</td> <td>-0.0048</td> <td>0.2005</td> \n",
       "</tr>\n",
       "<tr>\n",
       "  <th>ProsperScore:2-5</th>                                 <td>0.9527</td>   <td>0.1344</td>   <td>7.0862</td>  <td>0.0000</td> <td>0.6892</td>  <td>1.2162</td> \n",
       "</tr>\n",
       "<tr>\n",
       "  <th>ProsperScore:6-8</th>                                 <td>0.5540</td>   <td>0.1404</td>   <td>3.9444</td>  <td>0.0001</td> <td>0.2787</td>  <td>0.8292</td> \n",
       "</tr>\n",
       "<tr>\n",
       "  <th>ProsperScore:9-11</th>                                <td>0.6573</td>   <td>0.1841</td>   <td>3.5709</td>  <td>0.0004</td> <td>0.2965</td>  <td>1.0181</td> \n",
       "</tr>\n",
       "<tr>\n",
       "  <th>BorrowerRate:0.111, 0.188</th>                        <td>-0.6099</td>  <td>0.1688</td>   <td>-3.6119</td> <td>0.0003</td> <td>-0.9408</td> <td>-0.2789</td>\n",
       "</tr>\n",
       "<tr>\n",
       "  <th>BorrowerRate:0.188, 0.243</th>                        <td>-1.8586</td>  <td>0.2001</td>   <td>-9.2865</td> <td>0.0000</td> <td>-2.2509</td> <td>-1.4663</td>\n",
       "</tr>\n",
       "<tr>\n",
       "  <th>BorrowerRate:0.243-0.292</th>                         <td>-2.8858</td>  <td>0.2158</td>  <td>-13.3753</td> <td>0.0000</td> <td>-3.3087</td> <td>-2.4630</td>\n",
       "</tr>\n",
       "<tr>\n",
       "  <th>BorrowerRate:>0.292</th>                              <td>-4.0072</td>  <td>0.2439</td>  <td>-16.4325</td> <td>0.0000</td> <td>-4.4851</td> <td>-3.5292</td>\n",
       "</tr>\n",
       "<tr>\n",
       "  <th>LoanOriginalAmount:7.5K-15K</th>                      <td>-0.1089</td>  <td>0.0573</td>   <td>-1.8994</td> <td>0.0575</td> <td>-0.2212</td> <td>0.0035</td> \n",
       "</tr>\n",
       "<tr>\n",
       "  <th>LoanOriginalAmount:15K-20.4K</th>                     <td>0.2270</td>   <td>0.1566</td>   <td>1.4492</td>  <td>0.1473</td> <td>-0.0800</td> <td>0.5339</td> \n",
       "</tr>\n",
       "<tr>\n",
       "  <th>LoanOriginalAmount:20.4K-24.3k</th>                   <td>-0.1535</td>  <td>0.3054</td>   <td>-0.5026</td> <td>0.6153</td> <td>-0.7521</td> <td>0.4451</td> \n",
       "</tr>\n",
       "<tr>\n",
       "  <th>LoanOriginalAmount>24.3k</th>                         <td>-0.0192</td>  <td>0.1634</td>   <td>-0.1177</td> <td>0.9063</td> <td>-0.3396</td> <td>0.3011</td> \n",
       "</tr>\n",
       "<tr>\n",
       "  <th>DebtToIncomeRatio:Missing</th>                        <td>-0.8814</td>  <td>0.8694</td>   <td>-1.0138</td> <td>0.3107</td> <td>-2.5854</td> <td>0.8226</td> \n",
       "</tr>\n",
       "<tr>\n",
       "  <th>DebtToIncomeRatio:0.088-0.244</th>                    <td>0.3732</td>   <td>0.0831</td>   <td>4.4923</td>  <td>0.0000</td> <td>0.2104</td>  <td>0.5361</td> \n",
       "</tr>\n",
       "<tr>\n",
       "  <th>DebtToIncomeRatio:0.244-0.296</th>                    <td>0.4648</td>   <td>0.1011</td>   <td>4.5969</td>  <td>0.0000</td> <td>0.2666</td>  <td>0.6630</td> \n",
       "</tr>\n",
       "<tr>\n",
       "  <th>DebtToIncomeRatio:0.296-0.4</th>                      <td>0.5369</td>   <td>0.0950</td>   <td>5.6504</td>  <td>0.0000</td> <td>0.3507</td>  <td>0.7231</td> \n",
       "</tr>\n",
       "<tr>\n",
       "  <th>DebtToIncomeRatio>0.4</th>                            <td>0.4732</td>   <td>0.0990</td>   <td>4.7809</td>  <td>0.0000</td> <td>0.2792</td>  <td>0.6672</td> \n",
       "</tr>\n",
       "<tr>\n",
       "  <th>AvailableBankcardCredit:8.5k-15.5k</th>               <td>-0.2422</td>  <td>0.0655</td>   <td>-3.6964</td> <td>0.0002</td> <td>-0.3707</td> <td>-0.1138</td>\n",
       "</tr>\n",
       "<tr>\n",
       "  <th>AvailableBankcardCredit:15.5k-21k</th>                <td>-0.2019</td>  <td>0.0960</td>   <td>-2.1027</td> <td>0.0355</td> <td>-0.3902</td> <td>-0.0137</td>\n",
       "</tr>\n",
       "<tr>\n",
       "  <th>AvailableBankcardCredit:21k-25.5k</th>                <td>-0.3100</td>  <td>0.1214</td>   <td>-2.5535</td> <td>0.0107</td> <td>-0.5479</td> <td>-0.0721</td>\n",
       "</tr>\n",
       "<tr>\n",
       "  <th>AvailableBankcardCredit:25.5k-30k</th>                <td>-0.5832</td>  <td>0.1305</td>   <td>-4.4701</td> <td>0.0000</td> <td>-0.8390</td> <td>-0.3275</td>\n",
       "</tr>\n",
       "<tr>\n",
       "  <th>AvailableBankcardCredit>30k</th>                      <td>-0.3000</td>  <td>0.0930</td>   <td>-3.2269</td> <td>0.0013</td> <td>-0.4822</td> <td>-0.1178</td>\n",
       "</tr>\n",
       "<tr>\n",
       "  <th>intercept</th>                                        <td>4.2554</td>   <td>1.3245</td>   <td>3.2129</td>  <td>0.0013</td> <td>1.6595</td>  <td>6.8514</td> \n",
       "</tr>\n",
       "</table>"
      ],
      "text/plain": [
       "<class 'statsmodels.iolib.summary2.Summary'>\n",
       "\"\"\"\n",
       "                                         Results: Logit\n",
       "=================================================================================================\n",
       "Model:                          Logit                      Pseudo R-squared:           0.129     \n",
       "Dependent Variable:             y                          AIC:                        18043.9306\n",
       "Date:                           2022-03-06 07:18           BIC:                        18414.0382\n",
       "No. Observations:               40423                      Log-Likelihood:             -8979.0   \n",
       "Df Model:                       42                         LL-Null:                    -10308.   \n",
       "Df Residuals:                   40380                      LLR p-value:                0.0000    \n",
       "Converged:                      1.0000                     Scale:                      1.0000    \n",
       "No. Iterations:                 8.0000                                                           \n",
       "-------------------------------------------------------------------------------------------------\n",
       "                                                  Coef.  Std.Err.    z     P>|z|   [0.025  0.975]\n",
       "-------------------------------------------------------------------------------------------------\n",
       "IncomeRange:$1-24,999                             0.0694   0.7172   0.0968 0.9229 -1.3363  1.4751\n",
       "IncomeRange:$100,000+                             0.9817   0.7177   1.3678 0.1714 -0.4250  2.3884\n",
       "IncomeRange:$25,000-49,999                        0.2258   0.7153   0.3157 0.7522 -1.1762  1.6278\n",
       "IncomeRange:$50,000-74,999                        0.5893   0.7159   0.8231 0.4105 -0.8139  1.9924\n",
       "IncomeRange:$75,000-99,999                        0.7496   0.7172   1.0453 0.2959 -0.6560  2.1553\n",
       "IncomeRange:Not employed                          0.3682   0.8274   0.4450 0.6563 -1.2535  1.9899\n",
       "EmploymentStatus:Employed                         0.3258   0.3977   0.8194 0.4126 -0.4536  1.1053\n",
       "CreditScoreRange:Exceptional (800+)              -0.2824   0.1528  -1.8483 0.0646 -0.5819  0.0171\n",
       "CreditScoreRange:Good (680-739)                  -0.0513   0.0490  -1.0477 0.2948 -0.1474  0.0447\n",
       "CreditScoreRange:Very Good (740-799)             -0.1182   0.0717  -1.6493 0.0991 -0.2587  0.0223\n",
       "IncomeVerifiable:True                            -0.8771   0.8653  -1.0137 0.3107 -2.5730  0.8188\n",
       "IsBorrowerHomeowner:True                         -0.0200   0.0444  -0.4498 0.6528 -0.1071  0.0671\n",
       "ProsperRating (Alpha):A                          -0.9435   0.2214  -4.2615 0.0000 -1.3775 -0.5096\n",
       "ProsperRating (Alpha):AA                         -0.5878   0.3316  -1.7725 0.0763 -1.2377  0.0622\n",
       "ProsperRating (Alpha):B                          -1.0957   0.1938  -5.6550 0.0000 -1.4755 -0.7160\n",
       "ProsperRating (Alpha):C                          -0.6795   0.1544  -4.4008 0.0000 -0.9821 -0.3769\n",
       "ProsperRating (Alpha):D                          -0.4934   0.1318  -3.7442 0.0002 -0.7516 -0.2351\n",
       "ProsperRating (Alpha):E                           0.3670   0.0826   4.4439 0.0000  0.2052  0.5289\n",
       "EmploymentStatus:Other__self_employed__full_time  0.2765   0.4003   0.6908 0.4897 -0.5080  1.0610\n",
       "Term:12                                          -0.4166   0.1950  -2.1369 0.0326 -0.7988 -0.0345\n",
       "Term:36                                           0.0978   0.0524   1.8680 0.0618 -0.0048  0.2005\n",
       "ProsperScore:2-5                                  0.9527   0.1344   7.0862 0.0000  0.6892  1.2162\n",
       "ProsperScore:6-8                                  0.5540   0.1404   3.9444 0.0001  0.2787  0.8292\n",
       "ProsperScore:9-11                                 0.6573   0.1841   3.5709 0.0004  0.2965  1.0181\n",
       "BorrowerRate:0.111, 0.188                        -0.6099   0.1688  -3.6119 0.0003 -0.9408 -0.2789\n",
       "BorrowerRate:0.188, 0.243                        -1.8586   0.2001  -9.2865 0.0000 -2.2509 -1.4663\n",
       "BorrowerRate:0.243-0.292                         -2.8858   0.2158 -13.3753 0.0000 -3.3087 -2.4630\n",
       "BorrowerRate:>0.292                              -4.0072   0.2439 -16.4325 0.0000 -4.4851 -3.5292\n",
       "LoanOriginalAmount:7.5K-15K                      -0.1089   0.0573  -1.8994 0.0575 -0.2212  0.0035\n",
       "LoanOriginalAmount:15K-20.4K                      0.2270   0.1566   1.4492 0.1473 -0.0800  0.5339\n",
       "LoanOriginalAmount:20.4K-24.3k                   -0.1535   0.3054  -0.5026 0.6153 -0.7521  0.4451\n",
       "LoanOriginalAmount>24.3k                         -0.0192   0.1634  -0.1177 0.9063 -0.3396  0.3011\n",
       "DebtToIncomeRatio:Missing                        -0.8814   0.8694  -1.0138 0.3107 -2.5854  0.8226\n",
       "DebtToIncomeRatio:0.088-0.244                     0.3732   0.0831   4.4923 0.0000  0.2104  0.5361\n",
       "DebtToIncomeRatio:0.244-0.296                     0.4648   0.1011   4.5969 0.0000  0.2666  0.6630\n",
       "DebtToIncomeRatio:0.296-0.4                       0.5369   0.0950   5.6504 0.0000  0.3507  0.7231\n",
       "DebtToIncomeRatio>0.4                             0.4732   0.0990   4.7809 0.0000  0.2792  0.6672\n",
       "AvailableBankcardCredit:8.5k-15.5k               -0.2422   0.0655  -3.6964 0.0002 -0.3707 -0.1138\n",
       "AvailableBankcardCredit:15.5k-21k                -0.2019   0.0960  -2.1027 0.0355 -0.3902 -0.0137\n",
       "AvailableBankcardCredit:21k-25.5k                -0.3100   0.1214  -2.5535 0.0107 -0.5479 -0.0721\n",
       "AvailableBankcardCredit:25.5k-30k                -0.5832   0.1305  -4.4701 0.0000 -0.8390 -0.3275\n",
       "AvailableBankcardCredit>30k                      -0.3000   0.0930  -3.2269 0.0013 -0.4822 -0.1178\n",
       "intercept                                         4.2554   1.3245   3.2129 0.0013  1.6595  6.8514\n",
       "=================================================================================================\n",
       "\n",
       "\"\"\""
      ]
     },
     "execution_count": 28,
     "metadata": {},
     "output_type": "execute_result"
    }
   ],
   "source": [
    "inputs_train['intercept']= 1\n",
    "logit_mod =sm.Logit(y_train,inputs_train)\n",
    "\n",
    "#fit the model\n",
    "results = logit_mod.fit()\n",
    "\n",
    "#get summary statistics\n",
    "results.summary2() "
   ]
  },
  {
   "cell_type": "markdown",
   "metadata": {},
   "source": [
    "### Selecting features\n",
    "\n",
    "Here we will select only features that are statistically significant. That is with p-values <0.05. These features are believed to have strong predicting power."
   ]
  },
  {
   "cell_type": "code",
   "execution_count": 29,
   "metadata": {},
   "outputs": [
    {
     "name": "stdout",
     "output_type": "stream",
     "text": [
      "['ProsperRating (Alpha):A', 'ProsperRating (Alpha):B', 'ProsperRating (Alpha):C', 'ProsperRating (Alpha):D', 'ProsperRating (Alpha):E', 'Term:12', 'ProsperScore:2-5', 'ProsperScore:6-8', 'ProsperScore:9-11', 'BorrowerRate:0.111, 0.188', 'BorrowerRate:0.188, 0.243', 'BorrowerRate:0.243-0.292', 'BorrowerRate:>0.292', 'DebtToIncomeRatio:0.088-0.244', 'DebtToIncomeRatio:0.244-0.296', 'DebtToIncomeRatio:0.296-0.4', 'DebtToIncomeRatio>0.4', 'AvailableBankcardCredit:8.5k-15.5k', 'AvailableBankcardCredit:15.5k-21k', 'AvailableBankcardCredit:21k-25.5k', 'AvailableBankcardCredit:25.5k-30k', 'AvailableBankcardCredit>30k', 'intercept']\n",
      "23\n"
     ]
    }
   ],
   "source": [
    "#create a dataframe of all p-values\n",
    "pvalue = pd.DataFrame(results.pvalues,columns={'p_value'},)\n",
    "\n",
    "#a loop to display attributes with P value higher than the preferred alpha(5%) \n",
    "\n",
    "pvs=[]\n",
    "for i in range (0, len(pvalue[\"p_value\"])):\n",
    "    if pvalue['p_value'][i] < 0.05:\n",
    "        pvs.append(pvalue.index[i])\n",
    "    if 'const' in pvs:\n",
    "         pvs.remove('const')\n",
    "    else:\n",
    "         pvs \n",
    "print(pvs)\n",
    "print(len(pvs))"
   ]
  },
  {
   "cell_type": "markdown",
   "metadata": {},
   "source": [
    "So out of 42 features, only 23 are statistically significant while others have low statistically significant relationship with the probability of default\n",
    "\n",
    "Let us rebuild these logistic model with these 23 features."
   ]
  },
  {
   "cell_type": "code",
   "execution_count": 30,
   "metadata": {},
   "outputs": [],
   "source": [
    "#selecting features\n",
    "new_inputs_train = inputs_train[['ProsperRating (Alpha):A', 'ProsperRating (Alpha):B', \n",
    "                                 'ProsperRating (Alpha):C', 'ProsperRating (Alpha):D', \n",
    "                                 'ProsperRating (Alpha):E', 'Term:12', 'ProsperScore:2-5',\n",
    "                                 'ProsperScore:6-8', 'ProsperScore:9-11', 'BorrowerRate:0.111, 0.188',\n",
    "                                 'BorrowerRate:0.188, 0.243', 'BorrowerRate:0.243-0.292', \n",
    "                                 'BorrowerRate:>0.292', 'DebtToIncomeRatio:0.088-0.244', \n",
    "                                 'DebtToIncomeRatio:0.244-0.296', 'DebtToIncomeRatio:0.296-0.4',\n",
    "                                 'DebtToIncomeRatio>0.4', 'AvailableBankcardCredit:8.5k-15.5k',\n",
    "                                 'AvailableBankcardCredit:15.5k-21k', 'AvailableBankcardCredit:21k-25.5k',\n",
    "                                 'AvailableBankcardCredit:25.5k-30k', 'AvailableBankcardCredit>30k']]\n",
    "\n",
    "#testdata================================\n",
    "new_inputs_test = inputs_test[['ProsperRating (Alpha):A', 'ProsperRating (Alpha):B', \n",
    "                                 'ProsperRating (Alpha):C', 'ProsperRating (Alpha):D', \n",
    "                                 'ProsperRating (Alpha):E', 'Term:12', 'ProsperScore:2-5',\n",
    "                                 'ProsperScore:6-8', 'ProsperScore:9-11', 'BorrowerRate:0.111, 0.188',\n",
    "                                 'BorrowerRate:0.188, 0.243', 'BorrowerRate:0.243-0.292', \n",
    "                                 'BorrowerRate:>0.292', 'DebtToIncomeRatio:0.088-0.244', \n",
    "                                 'DebtToIncomeRatio:0.244-0.296', 'DebtToIncomeRatio:0.296-0.4',\n",
    "                                 'DebtToIncomeRatio>0.4', 'AvailableBankcardCredit:8.5k-15.5k',\n",
    "                                 'AvailableBankcardCredit:15.5k-21k', 'AvailableBankcardCredit:21k-25.5k',\n",
    "                                 'AvailableBankcardCredit:25.5k-30k', 'AvailableBankcardCredit>30k']]"
   ]
  },
  {
   "cell_type": "code",
   "execution_count": 31,
   "metadata": {},
   "outputs": [
    {
     "data": {
      "text/plain": [
       "Pipeline(memory=None,\n",
       "         steps=[('clf',\n",
       "                 LogisticRegression(C=1.0, class_weight=None, dual=False,\n",
       "                                    fit_intercept=True, intercept_scaling=1,\n",
       "                                    l1_ratio=None, max_iter=100,\n",
       "                                    multi_class='auto', n_jobs=None,\n",
       "                                    penalty='l2', random_state=None,\n",
       "                                    solver='lbfgs', tol=0.0001, verbose=0,\n",
       "                                    warm_start=False))],\n",
       "         verbose=False)"
      ]
     },
     "execution_count": 31,
     "metadata": {},
     "output_type": "execute_result"
    }
   ],
   "source": [
    "LogReg_pipeline.fit(new_inputs_train,y_train)"
   ]
  },
  {
   "cell_type": "code",
   "execution_count": 37,
   "metadata": {},
   "outputs": [
    {
     "name": "stdout",
     "output_type": "stream",
     "text": [
      "              precision    recall  f1-score   support\n",
      "\n",
      "           0       0.00      0.00      0.00       969\n",
      "           1       0.93      1.00      0.96     12506\n",
      "\n",
      "    accuracy                           0.93     13475\n",
      "   macro avg       0.46      0.50      0.48     13475\n",
      "weighted avg       0.86      0.93      0.89     13475\n",
      "\n"
     ]
    },
    {
     "name": "stderr",
     "output_type": "stream",
     "text": [
      "/opt/anaconda3/lib/python3.7/site-packages/sklearn/metrics/_classification.py:1272: UndefinedMetricWarning: Precision and F-score are ill-defined and being set to 0.0 in labels with no predicted samples. Use `zero_division` parameter to control this behavior.\n",
      "  _warn_prf(average, modifier, msg_start, len(result))\n"
     ]
    }
   ],
   "source": [
    "#test the model\n",
    "performance_report(LogReg_pipeline, new_inputs_test, y_test)"
   ]
  },
  {
   "cell_type": "code",
   "execution_count": 41,
   "metadata": {},
   "outputs": [
    {
     "data": {
      "text/plain": [
       "{'tn': 0, 'fp': 969, 'fn': 0, 'tp': 12506}"
      ]
     },
     "execution_count": 41,
     "metadata": {},
     "output_type": "execute_result"
    },
    {
     "data": {
      "image/png": "[encoded data removed]",
      "text/plain": [
       "<Figure size 576x360 with 2 Axes>"
      ]
     },
     "metadata": {
      "needs_background": "light"
     },
     "output_type": "display_data"
    }
   ],
   "source": [
    "confusion_mat(LogReg_pipeline, new_inputs_test, y_test)"
   ]
  },
  {
   "cell_type": "markdown",
   "metadata": {},
   "source": [
    "Improving the model with gridsearch"
   ]
  },
  {
   "cell_type": "code",
   "execution_count": 33,
   "metadata": {},
   "outputs": [],
   "source": [
    "parameters = {\n",
    "    'clf__C': [0.1, 1, 10, 100, 1000],\n",
    "    'clf__max_iter': [1000,1500]\n",
    "}\n",
    "\n",
    "#parameters_grid = {'classifier__estimator__n_estimators': [10, 20, 40]}\n",
    "\n",
    "#f1 = make_scorer(f1_score , average='macro')\n",
    "cv = GridSearchCV(LogReg_pipeline, param_grid=parameters)"
   ]
  },
  {
   "cell_type": "code",
   "execution_count": 34,
   "metadata": {},
   "outputs": [
    {
     "data": {
      "text/plain": [
       "GridSearchCV(cv=None, error_score=nan,\n",
       "             estimator=Pipeline(memory=None,\n",
       "                                steps=[('clf',\n",
       "                                        LogisticRegression(C=1.0,\n",
       "                                                           class_weight=None,\n",
       "                                                           dual=False,\n",
       "                                                           fit_intercept=True,\n",
       "                                                           intercept_scaling=1,\n",
       "                                                           l1_ratio=None,\n",
       "                                                           max_iter=100,\n",
       "                                                           multi_class='auto',\n",
       "                                                           n_jobs=None,\n",
       "                                                           penalty='l2',\n",
       "                                                           random_state=None,\n",
       "                                                           solver='lbfgs',\n",
       "                                                           tol=0.0001,\n",
       "                                                           verbose=0,\n",
       "                                                           warm_start=False))],\n",
       "                                verbose=False),\n",
       "             iid='deprecated', n_jobs=None,\n",
       "             param_grid={'clf__C': [0.1, 1, 10, 100, 1000],\n",
       "                         'clf__max_iter': [1000, 1500]},\n",
       "             pre_dispatch='2*n_jobs', refit=True, return_train_score=False,\n",
       "             scoring=None, verbose=0)"
      ]
     },
     "execution_count": 34,
     "metadata": {},
     "output_type": "execute_result"
    }
   ],
   "source": [
    "# Find best parameters\n",
    "cv.fit(new_inputs_train, y_train)\n"
   ]
  },
  {
   "cell_type": "code",
   "execution_count": 35,
   "metadata": {},
   "outputs": [
    {
     "name": "stdout",
     "output_type": "stream",
     "text": [
      "              precision    recall  f1-score   support\n",
      "\n",
      "           0       0.00      0.00      0.00       969\n",
      "           1       0.93      1.00      0.96     12506\n",
      "\n",
      "    accuracy                           0.93     13475\n",
      "   macro avg       0.46      0.50      0.48     13475\n",
      "weighted avg       0.86      0.93      0.89     13475\n",
      "\n"
     ]
    },
    {
     "name": "stderr",
     "output_type": "stream",
     "text": [
      "/opt/anaconda3/lib/python3.7/site-packages/sklearn/metrics/_classification.py:1272: UndefinedMetricWarning: Precision and F-score are ill-defined and being set to 0.0 in labels with no predicted samples. Use `zero_division` parameter to control this behavior.\n",
      "  _warn_prf(average, modifier, msg_start, len(result))\n"
     ]
    }
   ],
   "source": [
    "#test model\n",
    "performance_report(cv, new_inputs_test, y_test)"
   ]
  },
  {
   "cell_type": "code",
   "execution_count": 47,
   "metadata": {},
   "outputs": [
    {
     "data": {
      "text/plain": [
       "{'tn': 0, 'fp': 969, 'fn': 0, 'tp': 12506}"
      ]
     },
     "execution_count": 47,
     "metadata": {},
     "output_type": "execute_result"
    },
    {
     "data": {
      "image/png": "[encoded data removed]",
      "text/plain": [
       "<Figure size 576x360 with 2 Axes>"
      ]
     },
     "metadata": {
      "needs_background": "light"
     },
     "output_type": "display_data"
    }
   ],
   "source": [
    "confusion_mat_with_gridsearch(cv, new_inputs_test, y_test)"
   ]
  },
  {
   "cell_type": "code",
   "execution_count": 37,
   "metadata": {},
   "outputs": [],
   "source": [
    "optimised_model = cv.best_estimator_"
   ]
  },
  {
   "cell_type": "code",
   "execution_count": 38,
   "metadata": {},
   "outputs": [
    {
     "data": {
      "text/plain": [
       "Pipeline(memory=None,\n",
       "         steps=[('clf',\n",
       "                 LogisticRegression(C=1, class_weight=None, dual=False,\n",
       "                                    fit_intercept=True, intercept_scaling=1,\n",
       "                                    l1_ratio=None, max_iter=1000,\n",
       "                                    multi_class='auto', n_jobs=None,\n",
       "                                    penalty='l2', random_state=None,\n",
       "                                    solver='lbfgs', tol=0.0001, verbose=0,\n",
       "                                    warm_start=False))],\n",
       "         verbose=False)"
      ]
     },
     "execution_count": 38,
     "metadata": {},
     "output_type": "execute_result"
    }
   ],
   "source": [
    "optimised_model"
   ]
  },
  {
   "cell_type": "code",
   "execution_count": 45,
   "metadata": {},
   "outputs": [],
   "source": [
    "# Pickle best model\n",
    "\n",
    "with open('prosper_loan_model.pkl', 'wb') as f:\n",
    "    pickle.dump(optimised_model, f)"
   ]
  },
  {
   "cell_type": "markdown",
   "metadata": {},
   "source": [
    "### Interpreting the PD model"
   ]
  },
  {
   "cell_type": "code",
   "execution_count": 48,
   "metadata": {},
   "outputs": [
    {
     "data": {
      "text/plain": [
       "array([[-0.7149387 , -0.97663694, -0.64156338, -0.46306701,  0.4067268 ,\n",
       "        -0.34579398,  0.80384459,  0.36936399,  0.54395239, -0.29439693,\n",
       "        -1.486693  , -2.54451842, -3.58991894,  0.49587851,  0.51671435,\n",
       "         0.50772248,  0.31560656, -0.21630434, -0.16677352, -0.28535145,\n",
       "        -0.53556407, -0.25555387]])"
      ]
     },
     "execution_count": 48,
     "metadata": {},
     "output_type": "execute_result"
    }
   ],
   "source": [
    "#print optimised_model.named_steps['clf'].coef_"
   ]
  },
  {
   "cell_type": "code",
   "execution_count": 49,
   "metadata": {},
   "outputs": [
    {
     "data": {
      "text/plain": [
       "array([3.85431444])"
      ]
     },
     "execution_count": 49,
     "metadata": {},
     "output_type": "execute_result"
    }
   ],
   "source": [
    "optimised_model.named_steps['clf'].intercept_"
   ]
  },
  {
   "cell_type": "code",
   "execution_count": 50,
   "metadata": {},
   "outputs": [],
   "source": [
    "feature_name = new_inputs_train.columns.values"
   ]
  },
  {
   "cell_type": "code",
   "execution_count": 52,
   "metadata": {},
   "outputs": [
    {
     "data": {
      "text/html": [
       "<div>\n",
       "<style scoped>\n",
       "    .dataframe tbody tr th:only-of-type {\n",
       "        vertical-align: middle;\n",
       "    }\n",
       "\n",
       "    .dataframe tbody tr th {\n",
       "        vertical-align: top;\n",
       "    }\n",
       "\n",
       "    .dataframe thead th {\n",
       "        text-align: right;\n",
       "    }\n",
       "</style>\n",
       "<table border=\"1\" class=\"dataframe\">\n",
       "  <thead>\n",
       "    <tr style=\"text-align: right;\">\n",
       "      <th></th>\n",
       "      <th>Feature name</th>\n",
       "      <th>Coefficients</th>\n",
       "    </tr>\n",
       "  </thead>\n",
       "  <tbody>\n",
       "    <tr>\n",
       "      <th>0</th>\n",
       "      <td>Intercept</td>\n",
       "      <td>3.854314</td>\n",
       "    </tr>\n",
       "    <tr>\n",
       "      <th>1</th>\n",
       "      <td>ProsperRating (Alpha):A</td>\n",
       "      <td>-0.714939</td>\n",
       "    </tr>\n",
       "    <tr>\n",
       "      <th>2</th>\n",
       "      <td>ProsperRating (Alpha):B</td>\n",
       "      <td>-0.976637</td>\n",
       "    </tr>\n",
       "    <tr>\n",
       "      <th>3</th>\n",
       "      <td>ProsperRating (Alpha):C</td>\n",
       "      <td>-0.641563</td>\n",
       "    </tr>\n",
       "    <tr>\n",
       "      <th>4</th>\n",
       "      <td>ProsperRating (Alpha):D</td>\n",
       "      <td>-0.463067</td>\n",
       "    </tr>\n",
       "    <tr>\n",
       "      <th>5</th>\n",
       "      <td>ProsperRating (Alpha):E</td>\n",
       "      <td>0.406727</td>\n",
       "    </tr>\n",
       "    <tr>\n",
       "      <th>6</th>\n",
       "      <td>Term:12</td>\n",
       "      <td>-0.345794</td>\n",
       "    </tr>\n",
       "    <tr>\n",
       "      <th>7</th>\n",
       "      <td>ProsperScore:2-5</td>\n",
       "      <td>0.803845</td>\n",
       "    </tr>\n",
       "    <tr>\n",
       "      <th>8</th>\n",
       "      <td>ProsperScore:6-8</td>\n",
       "      <td>0.369364</td>\n",
       "    </tr>\n",
       "    <tr>\n",
       "      <th>9</th>\n",
       "      <td>ProsperScore:9-11</td>\n",
       "      <td>0.543952</td>\n",
       "    </tr>\n",
       "    <tr>\n",
       "      <th>10</th>\n",
       "      <td>BorrowerRate:0.111, 0.188</td>\n",
       "      <td>-0.294397</td>\n",
       "    </tr>\n",
       "    <tr>\n",
       "      <th>11</th>\n",
       "      <td>BorrowerRate:0.188, 0.243</td>\n",
       "      <td>-1.486693</td>\n",
       "    </tr>\n",
       "    <tr>\n",
       "      <th>12</th>\n",
       "      <td>BorrowerRate:0.243-0.292</td>\n",
       "      <td>-2.544518</td>\n",
       "    </tr>\n",
       "    <tr>\n",
       "      <th>13</th>\n",
       "      <td>BorrowerRate:&gt;0.292</td>\n",
       "      <td>-3.589919</td>\n",
       "    </tr>\n",
       "    <tr>\n",
       "      <th>14</th>\n",
       "      <td>DebtToIncomeRatio:0.088-0.244</td>\n",
       "      <td>0.495879</td>\n",
       "    </tr>\n",
       "    <tr>\n",
       "      <th>15</th>\n",
       "      <td>DebtToIncomeRatio:0.244-0.296</td>\n",
       "      <td>0.516714</td>\n",
       "    </tr>\n",
       "    <tr>\n",
       "      <th>16</th>\n",
       "      <td>DebtToIncomeRatio:0.296-0.4</td>\n",
       "      <td>0.507722</td>\n",
       "    </tr>\n",
       "    <tr>\n",
       "      <th>17</th>\n",
       "      <td>DebtToIncomeRatio&gt;0.4</td>\n",
       "      <td>0.315607</td>\n",
       "    </tr>\n",
       "    <tr>\n",
       "      <th>18</th>\n",
       "      <td>AvailableBankcardCredit:8.5k-15.5k</td>\n",
       "      <td>-0.216304</td>\n",
       "    </tr>\n",
       "    <tr>\n",
       "      <th>19</th>\n",
       "      <td>AvailableBankcardCredit:15.5k-21k</td>\n",
       "      <td>-0.166774</td>\n",
       "    </tr>\n",
       "    <tr>\n",
       "      <th>20</th>\n",
       "      <td>AvailableBankcardCredit:21k-25.5k</td>\n",
       "      <td>-0.285351</td>\n",
       "    </tr>\n",
       "    <tr>\n",
       "      <th>21</th>\n",
       "      <td>AvailableBankcardCredit:25.5k-30k</td>\n",
       "      <td>-0.535564</td>\n",
       "    </tr>\n",
       "    <tr>\n",
       "      <th>22</th>\n",
       "      <td>AvailableBankcardCredit&gt;30k</td>\n",
       "      <td>-0.255554</td>\n",
       "    </tr>\n",
       "  </tbody>\n",
       "</table>\n",
       "</div>"
      ],
      "text/plain": [
       "                          Feature name  Coefficients\n",
       "0                            Intercept      3.854314\n",
       "1              ProsperRating (Alpha):A     -0.714939\n",
       "2              ProsperRating (Alpha):B     -0.976637\n",
       "3              ProsperRating (Alpha):C     -0.641563\n",
       "4              ProsperRating (Alpha):D     -0.463067\n",
       "5              ProsperRating (Alpha):E      0.406727\n",
       "6                              Term:12     -0.345794\n",
       "7                     ProsperScore:2-5      0.803845\n",
       "8                     ProsperScore:6-8      0.369364\n",
       "9                    ProsperScore:9-11      0.543952\n",
       "10           BorrowerRate:0.111, 0.188     -0.294397\n",
       "11           BorrowerRate:0.188, 0.243     -1.486693\n",
       "12            BorrowerRate:0.243-0.292     -2.544518\n",
       "13                 BorrowerRate:>0.292     -3.589919\n",
       "14       DebtToIncomeRatio:0.088-0.244      0.495879\n",
       "15       DebtToIncomeRatio:0.244-0.296      0.516714\n",
       "16         DebtToIncomeRatio:0.296-0.4      0.507722\n",
       "17               DebtToIncomeRatio>0.4      0.315607\n",
       "18  AvailableBankcardCredit:8.5k-15.5k     -0.216304\n",
       "19   AvailableBankcardCredit:15.5k-21k     -0.166774\n",
       "20   AvailableBankcardCredit:21k-25.5k     -0.285351\n",
       "21   AvailableBankcardCredit:25.5k-30k     -0.535564\n",
       "22         AvailableBankcardCredit>30k     -0.255554"
      ]
     },
     "execution_count": 52,
     "metadata": {},
     "output_type": "execute_result"
    }
   ],
   "source": [
    "summary_table = pd.DataFrame(columns = ['Feature name'], data = feature_name)\n",
    "summary_table['Coefficients'] = np.transpose(optimised_model.named_steps['clf'].coef_)\n",
    "summary_table.index = summary_table.index + 1\n",
    "summary_table.loc[0] = ['Intercept', optimised_model.named_steps['clf'].intercept_[0]]\n",
    "summary_table = summary_table.sort_index()\n",
    "summary_table"
   ]
  },
  {
   "cell_type": "code",
   "execution_count": 58,
   "metadata": {},
   "outputs": [
    {
     "data": {
      "text/plain": [
       "Feature name     Term:12\n",
       "Coefficients    0.803845\n",
       "dtype: object"
      ]
     },
     "execution_count": 58,
     "metadata": {},
     "output_type": "execute_result"
    }
   ],
   "source": [
    "summary_table[summary_table['Feature name']!=\"Intercept\"].max()"
   ]
  },
  {
   "cell_type": "code",
   "execution_count": 59,
   "metadata": {},
   "outputs": [
    {
     "data": {
      "text/plain": [
       "Feature name    AvailableBankcardCredit:15.5k-21k\n",
       "Coefficients                             -3.58992\n",
       "dtype: object"
      ]
     },
     "execution_count": 59,
     "metadata": {},
     "output_type": "execute_result"
    }
   ],
   "source": [
    "summary_table[summary_table['Feature name']!=\"Intercept\"].min()"
   ]
  },
  {
   "cell_type": "markdown",
   "metadata": {},
   "source": [
    "### Evaluating and interpreting the model"
   ]
  },
  {
   "cell_type": "code",
   "execution_count": 72,
   "metadata": {},
   "outputs": [],
   "source": [
    "def probability_default_df(model,X_true,y_true,tr):\n",
    "    \"\"\"\n",
    "    Function to generate probability of good borrowers on a model\n",
    "    INPUT: Model, true data sets, that is X_true & y_true data sets\n",
    "    OUTPUT: Prints the target test data and its corresponing probability of being a \n",
    "    good borrower \n",
    "    \"\"\"\n",
    "    y_hat_test = model.best_estimator_.predict(X_true)\n",
    "    y_hat_test_proba = model.best_estimator_.predict_proba(X_true)\n",
    "    y_hat_test_proba = y_hat_test_proba[: ][: , 1]\n",
    "    \n",
    "    y_test_temp = y_true\n",
    "    df_actual_predicted_probs = pd.concat([pd.DataFrame(y_test_temp),\n",
    "                                           pd.DataFrame(y_hat_test_proba)], axis = 1)\n",
    "\n",
    "\n",
    "    df_actual_predicted_probs.columns = ['y_test', 'y_hat_test_proba']\n",
    "    df_actual_predicted_probs.index = X_true.index\n",
    "   \n",
    "   \n",
    "\n",
    "    return df_actual_predicted_probs\n",
    "# Makes the index of one dataframe equal to the index of another dataframe.\n",
    "\n",
    "\n",
    "    "
   ]
  },
  {
   "cell_type": "code",
   "execution_count": 115,
   "metadata": {},
   "outputs": [],
   "source": [
    "def conf_mat(tr):\n",
    "    \"\"\"A function to give the model's confusion matrix for a given threshold.\n",
    "    \n",
    "    INPUT: tr = probability threshold\n",
    "    \"\"\"\n",
    "    df = probability_default_df(cv, new_inputs_test, y_test)\n",
    "    y_hat_test = cv.best_estimator_.predict(new_inputs_test)\n",
    "    \n",
    "    \n",
    "    df['y_hat_test'] = np.where(df['y_hat_test_proba'] > tr, 1, 0)\n",
    "    \n",
    "    return pd.crosstab(df['y_test'], df['y_hat_test'], rownames = ['Actual'], colnames = ['Predicted'])\n",
    "    #pd.crosstab(df_actual_predicted_probs['y_test'], df_actual_predicted_probs['y_hat_test'], rownames = ['Actual'], colnames = ['Predicted']) / df_actual_predicted_probs.shape[0]\n",
    "\n",
    "   "
   ]
  },
  {
   "cell_type": "code",
   "execution_count": 108,
   "metadata": {},
   "outputs": [
    {
     "data": {
      "text/html": [
       "<div>\n",
       "<style scoped>\n",
       "    .dataframe tbody tr th:only-of-type {\n",
       "        vertical-align: middle;\n",
       "    }\n",
       "\n",
       "    .dataframe tbody tr th {\n",
       "        vertical-align: top;\n",
       "    }\n",
       "\n",
       "    .dataframe thead th {\n",
       "        text-align: right;\n",
       "    }\n",
       "</style>\n",
       "<table border=\"1\" class=\"dataframe\">\n",
       "  <thead>\n",
       "    <tr style=\"text-align: right;\">\n",
       "      <th></th>\n",
       "      <th>y_test</th>\n",
       "      <th>y_hat_test_proba</th>\n",
       "    </tr>\n",
       "  </thead>\n",
       "  <tbody>\n",
       "    <tr>\n",
       "      <th>0</th>\n",
       "      <td>1</td>\n",
       "      <td>0.828632</td>\n",
       "    </tr>\n",
       "    <tr>\n",
       "      <th>1</th>\n",
       "      <td>1</td>\n",
       "      <td>0.838969</td>\n",
       "    </tr>\n",
       "    <tr>\n",
       "      <th>2</th>\n",
       "      <td>1</td>\n",
       "      <td>0.932718</td>\n",
       "    </tr>\n",
       "    <tr>\n",
       "      <th>3</th>\n",
       "      <td>1</td>\n",
       "      <td>0.969187</td>\n",
       "    </tr>\n",
       "    <tr>\n",
       "      <th>4</th>\n",
       "      <td>1</td>\n",
       "      <td>0.941022</td>\n",
       "    </tr>\n",
       "  </tbody>\n",
       "</table>\n",
       "</div>"
      ],
      "text/plain": [
       "   y_test  y_hat_test_proba\n",
       "0       1          0.828632\n",
       "1       1          0.838969\n",
       "2       1          0.932718\n",
       "3       1          0.969187\n",
       "4       1          0.941022"
      ]
     },
     "execution_count": 108,
     "metadata": {},
     "output_type": "execute_result"
    }
   ],
   "source": [
    "#a look at the y_test train and predicted probabilities\n",
    "df_predict_proba = probability_default_df(cv, new_inputs_test, y_test)\n",
    "df_predict_proba.head()"
   ]
  },
  {
   "cell_type": "markdown",
   "metadata": {},
   "source": [
    "### Confusion Matrix\n",
    "\n",
    "Earlier we saw the confusion matrix for our logistic regression model given as:"
   ]
  },
  {
   "cell_type": "code",
   "execution_count": 116,
   "metadata": {},
   "outputs": [
    {
     "data": {
      "text/html": [
       "<div>\n",
       "<style scoped>\n",
       "    .dataframe tbody tr th:only-of-type {\n",
       "        vertical-align: middle;\n",
       "    }\n",
       "\n",
       "    .dataframe tbody tr th {\n",
       "        vertical-align: top;\n",
       "    }\n",
       "\n",
       "    .dataframe thead th {\n",
       "        text-align: right;\n",
       "    }\n",
       "</style>\n",
       "<table border=\"1\" class=\"dataframe\">\n",
       "  <thead>\n",
       "    <tr style=\"text-align: right;\">\n",
       "      <th>Predicted</th>\n",
       "      <th>1</th>\n",
       "    </tr>\n",
       "    <tr>\n",
       "      <th>Actual</th>\n",
       "      <th></th>\n",
       "    </tr>\n",
       "  </thead>\n",
       "  <tbody>\n",
       "    <tr>\n",
       "      <th>0</th>\n",
       "      <td>969</td>\n",
       "    </tr>\n",
       "    <tr>\n",
       "      <th>1</th>\n",
       "      <td>12506</td>\n",
       "    </tr>\n",
       "  </tbody>\n",
       "</table>\n",
       "</div>"
      ],
      "text/plain": [
       "Predicted      1\n",
       "Actual          \n",
       "0            969\n",
       "1          12506"
      ]
     },
     "execution_count": 116,
     "metadata": {},
     "output_type": "execute_result"
    }
   ],
   "source": [
    "conf_mat(0.5)"
   ]
  },
  {
   "cell_type": "markdown",
   "metadata": {},
   "source": [
    "So here we have pricted the default confusion matrix in sklearn and how it works is that:\n",
    "an indicator is defined,\n",
    "- where every observation that has predicted probability greater than the threshold (tr) has a value of 1,\n",
    "- and every observation that has predicted probability lower than the threshold has a value of 0.\n",
    "\n",
    "Obviously, all observations that are actually good are predicted to be good, which is a good thing. On the other hand, all observations that are bad are predicted to be good with non predicted to be bad. \n",
    "\n",
    "This is a huge problem, \n",
    "\n",
    "- first we know our data is purely imbalanced with more than 92% of borrowers being good. Thus \n",
    "\\begin{align}\n",
    "\\text{Accuracy} = \\frac{TP+TN}{(TP+TN+FP+FN) } = \\frac{12506}{12506+969}=92.8 \\%\n",
    "\\end{align}\n",
    "\n",
    "where 'TN'= cm[0, 0], 'FP'= cm[0, 1],'FN'= cm[1, 0], and  'TP'= cm[1, 1]}\n",
    "\n",
    "it turns out under a threshold of 0.5, the model generates a lot of false positives; that is observations that are bad but are being classified as being good. Imagine what would happen if the model was used for making a decision such as granting loans. With this threshold, a lot of bad applicants would be given loans. This is completely unacceptable.\n",
    "\n",
    "That's what happens when we keep the default threshold since very few people default on their loans. The regression learns that and classifies almost all cases as good.\n",
    "\n",
    "Let us increase the threshold \n"
   ]
  },
  {
   "cell_type": "code",
   "execution_count": 117,
   "metadata": {},
   "outputs": [
    {
     "data": {
      "text/html": [
       "<div>\n",
       "<style scoped>\n",
       "    .dataframe tbody tr th:only-of-type {\n",
       "        vertical-align: middle;\n",
       "    }\n",
       "\n",
       "    .dataframe tbody tr th {\n",
       "        vertical-align: top;\n",
       "    }\n",
       "\n",
       "    .dataframe thead th {\n",
       "        text-align: right;\n",
       "    }\n",
       "</style>\n",
       "<table border=\"1\" class=\"dataframe\">\n",
       "  <thead>\n",
       "    <tr style=\"text-align: right;\">\n",
       "      <th>Predicted</th>\n",
       "      <th>0</th>\n",
       "      <th>1</th>\n",
       "    </tr>\n",
       "    <tr>\n",
       "      <th>Actual</th>\n",
       "      <th></th>\n",
       "      <th></th>\n",
       "    </tr>\n",
       "  </thead>\n",
       "  <tbody>\n",
       "    <tr>\n",
       "      <th>0</th>\n",
       "      <td>580</td>\n",
       "      <td>389</td>\n",
       "    </tr>\n",
       "    <tr>\n",
       "      <th>1</th>\n",
       "      <td>2773</td>\n",
       "      <td>9733</td>\n",
       "    </tr>\n",
       "  </tbody>\n",
       "</table>\n",
       "</div>"
      ],
      "text/plain": [
       "Predicted     0     1\n",
       "Actual               \n",
       "0           580   389\n",
       "1          2773  9733"
      ]
     },
     "execution_count": 117,
     "metadata": {},
     "output_type": "execute_result"
    }
   ],
   "source": [
    "conf_mat(0.9)"
   ]
  },
  {
   "cell_type": "markdown",
   "metadata": {},
   "source": [
    "There are much less false positive predictions, but also much less true positive.\n",
    "That implies that if a lender uses the model for granting loans under the zero point nine threshold,\n",
    "they would reduce the number of defaults dramatically but also the number of overall approved applications.\n",
    "So a zero point nine threshold might be too conservative and may lead to losing business.\n",
    "Note that when doing credit risk modeling, we want to minimize the risk, but we still want to give\n",
    "out loans because that's how we make money.\n",
    "OK, what we saw is that overall accuracy is not the universal measure for a speedy model.\n",
    "The rates of the true positive predictions, goods that are being correctly classified as goods and\n",
    "the false positive predictions bands that are incorrectly classified as goods are far more important\n",
    "than the overall accuracy.\n",
    "Naturally, this is not an issue that we just came across.\n",
    "It is well documented and there are different remedies.\n",
    "One of the more common ways to approach that is to see the rates of the false positive predictions and\n",
    "the rates of the true positive predictions for all possible thresholds in machine learning.\n",
    "The Curve, which shows the rate of the true positive predictions, is called receiver operating characteristic\n",
    "curve or oracy curve.\n",
    "Every point of that curve actually corresponds to one threshold point that would result in a different\n",
    "classification of good and bad.\n",
    "More specifically, each point from the RSI curve corresponds to a different confusion matrix based\n",
    "on a different classification threshold.\n",
    "So let's plot the accuracy curve for our model."
   ]
  },
  {
   "cell_type": "markdown",
   "metadata": {},
   "source": [
    "### Accuracy and Area under the Curve\n",
    "\n",
    "How accurate is our model?"
   ]
  },
  {
   "cell_type": "markdown",
   "metadata": {},
   "source": [
    "So far we have estimated an initial PD-model and selected features based on statistical significance, then we estimated a final PD-model with the selected features only.\n",
    "Now, let's see how we can interpret the coefficients of this model.\n",
    "\n",
    "earlier in this section, we looked at what the coefficient of a dummy variable in a logistic regression model means. From the formula:\n",
    "\n",
    "\\begin{align}\n",
    "\\text{ln}\\left(\\frac{\\text{odds}[y=1|\\beta_{j}=1]}{\\text{odds}[y=1|\\beta_{j}=0]}\\right) = \\beta_{j}\n",
    "\\end{align}\n",
    "\n",
    "this means the exponential of a coefficient of a dummy variable shows the change in the odds for an event occurring between an observation with a zero value for that dummy variable and an observation with a value of one.\n",
    "\n",
    "According to our definition of the good bad variable, the event occurring is non default, that is,\n",
    "being a good borrower.\n",
    "So higher coefficients of dummy variables in our model mean greater odds of being a good borrower and\n",
    "correspondingly lower odds for default."
   ]
  },
  {
   "cell_type": "markdown",
   "metadata": {},
   "source": [
    "## stopped here..\n",
    "\n",
    "First, the predict method multiplies the values of the variables of each observation by the estimated\n",
    "model coefficients.\n",
    "This yields the log of odds and non default or being a good borrower.\n",
    "Then an exponent is raised to the power.\n",
    "This log odds and thus the odds themselves are obtained.\n",
    "From there, the estimated probability of non default or being a good borrower is obtained directly.\n",
    "Finally, the results are categorized into non default or good and default or bad by applying a cutoff\n",
    "to this probability.\n",
    "The default cutoff is zero point five or 50 percent when this cutoff is applied, all observations with\n",
    "estimated probabilities of being good, less than zero point five would be classified as bad or zero.\n",
    "Alternatively, all observations with estimated probabilities of being good, greater than 50 percent\n",
    "would be classified as good or one thus.\n"
   ]
  },
  {
   "cell_type": "markdown",
   "metadata": {},
   "source": [
    "### "
   ]
  },
  {
   "cell_type": "code",
   "execution_count": 127,
   "metadata": {},
   "outputs": [],
   "source": [
    "from sklearn.metrics import roc_curve, roc_auc_score"
   ]
  },
  {
   "cell_type": "code",
   "execution_count": 128,
   "metadata": {},
   "outputs": [],
   "source": [
    "#roc_curve(df_actual_predicted_probs['y_test'], df_actual_predicted_probs['y_hat_test_proba'])\n",
    "# Returns the Receiver Operating Characteristic (ROC) Curve from a set of actual values and their predicted probabilities.\n",
    "# As a result, we get three arrays: the false positive rates, the true positive rates, and the thresholds."
   ]
  },
  {
   "cell_type": "code",
   "execution_count": 129,
   "metadata": {},
   "outputs": [],
   "source": [
    "fpr, tpr, thresholds = roc_curve(df_actual_predicted_probs['y_test'], df_actual_predicted_probs['y_hat_test_proba'])\n",
    "# Here we store each of the three arrays in a separate variable. "
   ]
  },
  {
   "cell_type": "code",
   "execution_count": 130,
   "metadata": {},
   "outputs": [],
   "source": [
    "import matplotlib.pyplot as plt\n",
    "import seaborn as sns\n",
    "sns.set()"
   ]
  },
  {
   "cell_type": "code",
   "execution_count": 131,
   "metadata": {},
   "outputs": [
    {
     "data": {
      "text/plain": [
       "Text(0.5, 1.0, 'ROC curve')"
      ]
     },
     "execution_count": 131,
     "metadata": {},
     "output_type": "execute_result"
    },
    {
     "data": {
      "image/png": "[encoded data removed]",
      "text/plain": [
       "<Figure size 432x288 with 1 Axes>"
      ]
     },
     "metadata": {},
     "output_type": "display_data"
    }
   ],
   "source": [
    "plt.plot(fpr, tpr)\n",
    "# We plot the false positive rate along the x-axis and the true positive rate along the y-axis,\n",
    "# thus plotting the ROC curve.\n",
    "plt.plot(fpr, fpr, linestyle = '--', color = 'k')\n",
    "# We plot a seconary diagonal line, with dashed line style and black color.\n",
    "plt.xlabel('False positive rate')\n",
    "# We name the x-axis \"False positive rate\".\n",
    "plt.ylabel('True positive rate')\n",
    "# We name the x-axis \"True positive rate\".\n",
    "plt.title('ROC curve')\n",
    "# We name the graph \"ROC curve\"."
   ]
  },
  {
   "cell_type": "code",
   "execution_count": 132,
   "metadata": {},
   "outputs": [
    {
     "data": {
      "text/plain": [
       "0.7411613117138242"
      ]
     },
     "execution_count": 132,
     "metadata": {},
     "output_type": "execute_result"
    }
   ],
   "source": [
    "AUROC = roc_auc_score(df_actual_predicted_probs['y_test'], df_actual_predicted_probs['y_hat_test_proba'])\n",
    "# Calculates the Area Under the Receiver Operating Characteristic Curve (AUROC)\n",
    "# from a set of actual values and their predicted probabilities.\n",
    "AUROC"
   ]
  },
  {
   "cell_type": "markdown",
   "metadata": {},
   "source": [
    "#### Is this value good?\n",
    "\n",
    "Well, and it's difficult to say because it mostly depends on our data.\n",
    "Even a model that is built in an excellent way may not be very accurate just because the data provided\n",
    "are not good enough.\n",
    "That being said, a common skill for interpretation of area under the curve is this the model is bad \n",
    "\n",
    "- bad if AUC is between 50% and 60%\n",
    "- poor if it is between 60% and 70%,\n",
    "- fair if it is between 70% and 80% percent \n",
    "- good, if it's between 80% and 90%.\n",
    "- excellent if it's between 90% and 100%\n",
    "\n",
    "According to that criteria, we can say our model is fair.\n",
    "But as we said, it is far more important to know to what extent the outcome of interest can be explained by the available information.\n",
    "This is why typically few competing models are built for every analytical solution with an application in industry when possible.\n",
    "\n",
    "These competing models are built by different competing models or teams of models."
   ]
  },
  {
   "cell_type": "markdown",
   "metadata": {},
   "source": [
    "### Gini and Kolmogorov-Smirnov\n",
    "\n",
    "#### Criteria for model performance of classification models\n",
    "\n",
    "\n",
    "The first is the Gini coefficient, while the second Kolmogorov-Smirnov, they are well-established and widely accepted in the credit risk modeling community."
   ]
  },
  {
   "cell_type": "markdown",
   "metadata": {},
   "source": [
    "### Gini"
   ]
  },
  {
   "cell_type": "code",
   "execution_count": 133,
   "metadata": {},
   "outputs": [
    {
     "data": {
      "text/html": [
       "<div>\n",
       "<style scoped>\n",
       "    .dataframe tbody tr th:only-of-type {\n",
       "        vertical-align: middle;\n",
       "    }\n",
       "\n",
       "    .dataframe tbody tr th {\n",
       "        vertical-align: top;\n",
       "    }\n",
       "\n",
       "    .dataframe thead th {\n",
       "        text-align: right;\n",
       "    }\n",
       "</style>\n",
       "<table border=\"1\" class=\"dataframe\">\n",
       "  <thead>\n",
       "    <tr style=\"text-align: right;\">\n",
       "      <th></th>\n",
       "      <th>y_test</th>\n",
       "      <th>y_hat_test_proba</th>\n",
       "      <th>y_hat_test</th>\n",
       "    </tr>\n",
       "  </thead>\n",
       "  <tbody>\n",
       "    <tr>\n",
       "      <th>9055</th>\n",
       "      <td>0</td>\n",
       "      <td>0.491910</td>\n",
       "      <td>0</td>\n",
       "    </tr>\n",
       "    <tr>\n",
       "      <th>6459</th>\n",
       "      <td>0</td>\n",
       "      <td>0.493437</td>\n",
       "      <td>0</td>\n",
       "    </tr>\n",
       "    <tr>\n",
       "      <th>201</th>\n",
       "      <td>1</td>\n",
       "      <td>0.493437</td>\n",
       "      <td>0</td>\n",
       "    </tr>\n",
       "    <tr>\n",
       "      <th>12101</th>\n",
       "      <td>0</td>\n",
       "      <td>0.536079</td>\n",
       "      <td>0</td>\n",
       "    </tr>\n",
       "    <tr>\n",
       "      <th>2183</th>\n",
       "      <td>1</td>\n",
       "      <td>0.559716</td>\n",
       "      <td>0</td>\n",
       "    </tr>\n",
       "  </tbody>\n",
       "</table>\n",
       "</div>"
      ],
      "text/plain": [
       "       y_test  y_hat_test_proba  y_hat_test\n",
       "9055        0          0.491910           0\n",
       "6459        0          0.493437           0\n",
       "201         1          0.493437           0\n",
       "12101       0          0.536079           0\n",
       "2183        1          0.559716           0"
      ]
     },
     "execution_count": 133,
     "metadata": {},
     "output_type": "execute_result"
    }
   ],
   "source": [
    "df_actual_predicted_probs = df_actual_predicted_probs.sort_values('y_hat_test_proba')\n",
    "# Sorts a dataframe by the values of a specific column.\n",
    "df_actual_predicted_probs.head()"
   ]
  },
  {
   "cell_type": "code",
   "execution_count": 134,
   "metadata": {},
   "outputs": [
    {
     "data": {
      "text/html": [
       "<div>\n",
       "<style scoped>\n",
       "    .dataframe tbody tr th:only-of-type {\n",
       "        vertical-align: middle;\n",
       "    }\n",
       "\n",
       "    .dataframe tbody tr th {\n",
       "        vertical-align: top;\n",
       "    }\n",
       "\n",
       "    .dataframe thead th {\n",
       "        text-align: right;\n",
       "    }\n",
       "</style>\n",
       "<table border=\"1\" class=\"dataframe\">\n",
       "  <thead>\n",
       "    <tr style=\"text-align: right;\">\n",
       "      <th></th>\n",
       "      <th>index</th>\n",
       "      <th>y_test</th>\n",
       "      <th>y_hat_test_proba</th>\n",
       "      <th>y_hat_test</th>\n",
       "    </tr>\n",
       "  </thead>\n",
       "  <tbody>\n",
       "    <tr>\n",
       "      <th>0</th>\n",
       "      <td>9055</td>\n",
       "      <td>0</td>\n",
       "      <td>0.491910</td>\n",
       "      <td>0</td>\n",
       "    </tr>\n",
       "    <tr>\n",
       "      <th>1</th>\n",
       "      <td>6459</td>\n",
       "      <td>0</td>\n",
       "      <td>0.493437</td>\n",
       "      <td>0</td>\n",
       "    </tr>\n",
       "    <tr>\n",
       "      <th>2</th>\n",
       "      <td>201</td>\n",
       "      <td>1</td>\n",
       "      <td>0.493437</td>\n",
       "      <td>0</td>\n",
       "    </tr>\n",
       "    <tr>\n",
       "      <th>3</th>\n",
       "      <td>12101</td>\n",
       "      <td>0</td>\n",
       "      <td>0.536079</td>\n",
       "      <td>0</td>\n",
       "    </tr>\n",
       "    <tr>\n",
       "      <th>4</th>\n",
       "      <td>2183</td>\n",
       "      <td>1</td>\n",
       "      <td>0.559716</td>\n",
       "      <td>0</td>\n",
       "    </tr>\n",
       "  </tbody>\n",
       "</table>\n",
       "</div>"
      ],
      "text/plain": [
       "   index  y_test  y_hat_test_proba  y_hat_test\n",
       "0   9055       0          0.491910           0\n",
       "1   6459       0          0.493437           0\n",
       "2    201       1          0.493437           0\n",
       "3  12101       0          0.536079           0\n",
       "4   2183       1          0.559716           0"
      ]
     },
     "execution_count": 134,
     "metadata": {},
     "output_type": "execute_result"
    }
   ],
   "source": [
    "df_actual_predicted_probs = df_actual_predicted_probs.reset_index()\n",
    "# We reset the index of a dataframe and overwrite it.\n",
    "df_actual_predicted_probs.head()"
   ]
  },
  {
   "cell_type": "code",
   "execution_count": 135,
   "metadata": {},
   "outputs": [],
   "source": [
    "df_actual_predicted_probs['Cumulative N Population'] = df_actual_predicted_probs.index + 1\n",
    "# We calculate the cumulative number of all observations.\n",
    "# We use the new index for that. Since indexing in ython starts from 0, we add 1 to each index.\n",
    "df_actual_predicted_probs['Cumulative N Good'] = df_actual_predicted_probs['y_test'].cumsum()\n",
    "# We calculate cumulative number of 'good', which is the cumulative sum of the column with actual observations.\n",
    "df_actual_predicted_probs['Cumulative N Bad'] = df_actual_predicted_probs['Cumulative N Population'] - df_actual_predicted_probs['y_test'].cumsum()\n",
    "# We calculate cumulative number of 'bad', which is\n",
    "# the difference between the cumulative number of all observations and cumulative number of 'good' for each row."
   ]
  },
  {
   "cell_type": "code",
   "execution_count": 136,
   "metadata": {},
   "outputs": [
    {
     "data": {
      "text/html": [
       "<div>\n",
       "<style scoped>\n",
       "    .dataframe tbody tr th:only-of-type {\n",
       "        vertical-align: middle;\n",
       "    }\n",
       "\n",
       "    .dataframe tbody tr th {\n",
       "        vertical-align: top;\n",
       "    }\n",
       "\n",
       "    .dataframe thead th {\n",
       "        text-align: right;\n",
       "    }\n",
       "</style>\n",
       "<table border=\"1\" class=\"dataframe\">\n",
       "  <thead>\n",
       "    <tr style=\"text-align: right;\">\n",
       "      <th></th>\n",
       "      <th>index</th>\n",
       "      <th>y_test</th>\n",
       "      <th>y_hat_test_proba</th>\n",
       "      <th>y_hat_test</th>\n",
       "      <th>Cumulative N Population</th>\n",
       "      <th>Cumulative N Good</th>\n",
       "      <th>Cumulative N Bad</th>\n",
       "    </tr>\n",
       "  </thead>\n",
       "  <tbody>\n",
       "    <tr>\n",
       "      <th>0</th>\n",
       "      <td>9055</td>\n",
       "      <td>0</td>\n",
       "      <td>0.491910</td>\n",
       "      <td>0</td>\n",
       "      <td>1</td>\n",
       "      <td>0</td>\n",
       "      <td>1</td>\n",
       "    </tr>\n",
       "    <tr>\n",
       "      <th>1</th>\n",
       "      <td>6459</td>\n",
       "      <td>0</td>\n",
       "      <td>0.493437</td>\n",
       "      <td>0</td>\n",
       "      <td>2</td>\n",
       "      <td>0</td>\n",
       "      <td>2</td>\n",
       "    </tr>\n",
       "    <tr>\n",
       "      <th>2</th>\n",
       "      <td>201</td>\n",
       "      <td>1</td>\n",
       "      <td>0.493437</td>\n",
       "      <td>0</td>\n",
       "      <td>3</td>\n",
       "      <td>1</td>\n",
       "      <td>2</td>\n",
       "    </tr>\n",
       "    <tr>\n",
       "      <th>3</th>\n",
       "      <td>12101</td>\n",
       "      <td>0</td>\n",
       "      <td>0.536079</td>\n",
       "      <td>0</td>\n",
       "      <td>4</td>\n",
       "      <td>1</td>\n",
       "      <td>3</td>\n",
       "    </tr>\n",
       "    <tr>\n",
       "      <th>4</th>\n",
       "      <td>2183</td>\n",
       "      <td>1</td>\n",
       "      <td>0.559716</td>\n",
       "      <td>0</td>\n",
       "      <td>5</td>\n",
       "      <td>2</td>\n",
       "      <td>3</td>\n",
       "    </tr>\n",
       "  </tbody>\n",
       "</table>\n",
       "</div>"
      ],
      "text/plain": [
       "   index  y_test  y_hat_test_proba  y_hat_test  Cumulative N Population  \\\n",
       "0   9055       0          0.491910           0                        1   \n",
       "1   6459       0          0.493437           0                        2   \n",
       "2    201       1          0.493437           0                        3   \n",
       "3  12101       0          0.536079           0                        4   \n",
       "4   2183       1          0.559716           0                        5   \n",
       "\n",
       "   Cumulative N Good  Cumulative N Bad  \n",
       "0                  0                 1  \n",
       "1                  0                 2  \n",
       "2                  1                 2  \n",
       "3                  1                 3  \n",
       "4                  2                 3  "
      ]
     },
     "execution_count": 136,
     "metadata": {},
     "output_type": "execute_result"
    }
   ],
   "source": [
    "df_actual_predicted_probs.head()"
   ]
  },
  {
   "cell_type": "code",
   "execution_count": 137,
   "metadata": {},
   "outputs": [],
   "source": [
    "df_actual_predicted_probs['Cumulative Perc Population'] = df_actual_predicted_probs['Cumulative N Population'] / (df_actual_predicted_probs.shape[0])\n",
    "# We calculate the cumulative percentage of all observations.\n",
    "df_actual_predicted_probs['Cumulative Perc Good'] = df_actual_predicted_probs['Cumulative N Good'] / df_actual_predicted_probs['y_test'].sum()\n",
    "# We calculate cumulative percentage of 'good'.\n",
    "df_actual_predicted_probs['Cumulative Perc Bad'] = df_actual_predicted_probs['Cumulative N Bad'] / (df_actual_predicted_probs.shape[0] - df_actual_predicted_probs['y_test'].sum())\n",
    "# We calculate the cumulative percentage of 'bad'."
   ]
  },
  {
   "cell_type": "code",
   "execution_count": 138,
   "metadata": {},
   "outputs": [
    {
     "data": {
      "text/html": [
       "<div>\n",
       "<style scoped>\n",
       "    .dataframe tbody tr th:only-of-type {\n",
       "        vertical-align: middle;\n",
       "    }\n",
       "\n",
       "    .dataframe tbody tr th {\n",
       "        vertical-align: top;\n",
       "    }\n",
       "\n",
       "    .dataframe thead th {\n",
       "        text-align: right;\n",
       "    }\n",
       "</style>\n",
       "<table border=\"1\" class=\"dataframe\">\n",
       "  <thead>\n",
       "    <tr style=\"text-align: right;\">\n",
       "      <th></th>\n",
       "      <th>index</th>\n",
       "      <th>y_test</th>\n",
       "      <th>y_hat_test_proba</th>\n",
       "      <th>y_hat_test</th>\n",
       "      <th>Cumulative N Population</th>\n",
       "      <th>Cumulative N Good</th>\n",
       "      <th>Cumulative N Bad</th>\n",
       "      <th>Cumulative Perc Population</th>\n",
       "      <th>Cumulative Perc Good</th>\n",
       "      <th>Cumulative Perc Bad</th>\n",
       "    </tr>\n",
       "  </thead>\n",
       "  <tbody>\n",
       "    <tr>\n",
       "      <th>0</th>\n",
       "      <td>9055</td>\n",
       "      <td>0</td>\n",
       "      <td>0.491910</td>\n",
       "      <td>0</td>\n",
       "      <td>1</td>\n",
       "      <td>0</td>\n",
       "      <td>1</td>\n",
       "      <td>0.000074</td>\n",
       "      <td>0.00000</td>\n",
       "      <td>0.001032</td>\n",
       "    </tr>\n",
       "    <tr>\n",
       "      <th>1</th>\n",
       "      <td>6459</td>\n",
       "      <td>0</td>\n",
       "      <td>0.493437</td>\n",
       "      <td>0</td>\n",
       "      <td>2</td>\n",
       "      <td>0</td>\n",
       "      <td>2</td>\n",
       "      <td>0.000148</td>\n",
       "      <td>0.00000</td>\n",
       "      <td>0.002064</td>\n",
       "    </tr>\n",
       "    <tr>\n",
       "      <th>2</th>\n",
       "      <td>201</td>\n",
       "      <td>1</td>\n",
       "      <td>0.493437</td>\n",
       "      <td>0</td>\n",
       "      <td>3</td>\n",
       "      <td>1</td>\n",
       "      <td>2</td>\n",
       "      <td>0.000223</td>\n",
       "      <td>0.00008</td>\n",
       "      <td>0.002064</td>\n",
       "    </tr>\n",
       "    <tr>\n",
       "      <th>3</th>\n",
       "      <td>12101</td>\n",
       "      <td>0</td>\n",
       "      <td>0.536079</td>\n",
       "      <td>0</td>\n",
       "      <td>4</td>\n",
       "      <td>1</td>\n",
       "      <td>3</td>\n",
       "      <td>0.000297</td>\n",
       "      <td>0.00008</td>\n",
       "      <td>0.003096</td>\n",
       "    </tr>\n",
       "    <tr>\n",
       "      <th>4</th>\n",
       "      <td>2183</td>\n",
       "      <td>1</td>\n",
       "      <td>0.559716</td>\n",
       "      <td>0</td>\n",
       "      <td>5</td>\n",
       "      <td>2</td>\n",
       "      <td>3</td>\n",
       "      <td>0.000371</td>\n",
       "      <td>0.00016</td>\n",
       "      <td>0.003096</td>\n",
       "    </tr>\n",
       "  </tbody>\n",
       "</table>\n",
       "</div>"
      ],
      "text/plain": [
       "   index  y_test  y_hat_test_proba  y_hat_test  Cumulative N Population  \\\n",
       "0   9055       0          0.491910           0                        1   \n",
       "1   6459       0          0.493437           0                        2   \n",
       "2    201       1          0.493437           0                        3   \n",
       "3  12101       0          0.536079           0                        4   \n",
       "4   2183       1          0.559716           0                        5   \n",
       "\n",
       "   Cumulative N Good  Cumulative N Bad  Cumulative Perc Population  \\\n",
       "0                  0                 1                    0.000074   \n",
       "1                  0                 2                    0.000148   \n",
       "2                  1                 2                    0.000223   \n",
       "3                  1                 3                    0.000297   \n",
       "4                  2                 3                    0.000371   \n",
       "\n",
       "   Cumulative Perc Good  Cumulative Perc Bad  \n",
       "0               0.00000             0.001032  \n",
       "1               0.00000             0.002064  \n",
       "2               0.00008             0.002064  \n",
       "3               0.00008             0.003096  \n",
       "4               0.00016             0.003096  "
      ]
     },
     "execution_count": 138,
     "metadata": {},
     "output_type": "execute_result"
    }
   ],
   "source": [
    "df_actual_predicted_probs.head()"
   ]
  },
  {
   "cell_type": "code",
   "execution_count": 139,
   "metadata": {},
   "outputs": [
    {
     "data": {
      "text/plain": [
       "Text(0.5, 1.0, 'Gini')"
      ]
     },
     "execution_count": 139,
     "metadata": {},
     "output_type": "execute_result"
    },
    {
     "data": {
      "image/png": "[encoded data removed]",
      "text/plain": [
       "<Figure size 432x288 with 1 Axes>"
      ]
     },
     "metadata": {},
     "output_type": "display_data"
    }
   ],
   "source": [
    "# Plot Gini\n",
    "plt.plot(df_actual_predicted_probs['Cumulative Perc Population'], df_actual_predicted_probs['Cumulative Perc Bad'])\n",
    "# We plot the cumulative percentage of all along the x-axis and the cumulative percentage 'good' along the y-axis,\n",
    "# thus plotting the Gini curve.\n",
    "plt.plot(df_actual_predicted_probs['Cumulative Perc Population'], df_actual_predicted_probs['Cumulative Perc Population'], linestyle = '--', color = 'k')\n",
    "# We plot a seconary diagonal line, with dashed line style and black color.\n",
    "plt.xlabel('Cumulative % Population')\n",
    "# We name the x-axis \"Cumulative % Population\".\n",
    "plt.ylabel('Cumulative % Bad')\n",
    "# We name the y-axis \"Cumulative % Bad\".\n",
    "plt.title('Gini')\n",
    "# We name the graph \"Gini\"."
   ]
  },
  {
   "cell_type": "code",
   "execution_count": 140,
   "metadata": {},
   "outputs": [
    {
     "data": {
      "text/plain": [
       "0.4823226234276483"
      ]
     },
     "execution_count": 140,
     "metadata": {},
     "output_type": "execute_result"
    }
   ],
   "source": [
    "Gini = AUROC * 2 - 1\n",
    "# Here we calculate Gini from AUROC.\n",
    "Gini"
   ]
  },
  {
   "cell_type": "code",
   "execution_count": 141,
   "metadata": {},
   "outputs": [
    {
     "data": {
      "text/plain": [
       "Text(0.5, 1.0, 'Kolmogorov-Smirnov')"
      ]
     },
     "execution_count": 141,
     "metadata": {},
     "output_type": "execute_result"
    },
    {
     "data": {
      "image/png": "[encoded data removed]",
      "text/plain": [
       "<Figure size 432x288 with 1 Axes>"
      ]
     },
     "metadata": {},
     "output_type": "display_data"
    }
   ],
   "source": [
    "# Plot KS\n",
    "plt.plot(df_actual_predicted_probs['y_hat_test_proba'], df_actual_predicted_probs['Cumulative Perc Bad'], color = 'r')\n",
    "# We plot the predicted (estimated) probabilities along the x-axis and the cumulative percentage 'bad' along the y-axis,\n",
    "# colored in red.\n",
    "plt.plot(df_actual_predicted_probs['y_hat_test_proba'], df_actual_predicted_probs['Cumulative Perc Good'], color = 'b')\n",
    "# We plot the predicted (estimated) probabilities along the x-axis and the cumulative percentage 'good' along the y-axis,\n",
    "# colored in red.\n",
    "plt.xlabel('Estimated Probability for being Good')\n",
    "# We name the x-axis \"Estimated Probability for being Good\".\n",
    "plt.ylabel('Cumulative %')\n",
    "# We name the y-axis \"Cumulative %\".\n",
    "plt.title('Kolmogorov-Smirnov')\n",
    "# We name the graph \"Kolmogorov-Smirnov\"."
   ]
  },
  {
   "cell_type": "code",
   "execution_count": 142,
   "metadata": {},
   "outputs": [
    {
     "data": {
      "text/plain": [
       "0.39807030912055924"
      ]
     },
     "execution_count": 142,
     "metadata": {},
     "output_type": "execute_result"
    }
   ],
   "source": [
    "KS = max(df_actual_predicted_probs['Cumulative Perc Bad'] - df_actual_predicted_probs['Cumulative Perc Good'])\n",
    "# We calculate KS from the data. It is the maximum of the difference between the cumulative percentage of 'bad'\n",
    "# and the cumulative percentage of 'good'.\n",
    "KS"
   ]
  },
  {
   "cell_type": "code",
   "execution_count": null,
   "metadata": {},
   "outputs": [],
   "source": []
  }
 ],
 "metadata": {
  "kernelspec": {
   "display_name": "Python 3",
   "language": "python",
   "name": "python3"
  },
  "language_info": {
   "codemirror_mode": {
    "name": "ipython",
    "version": 3
   },
   "file_extension": ".py",
   "mimetype": "text/x-python",
   "name": "python",
   "nbconvert_exporter": "python",
   "pygments_lexer": "ipython3",
   "version": "3.7.7"
  }
 },
 "nbformat": 4,
 "nbformat_minor": 4
}
